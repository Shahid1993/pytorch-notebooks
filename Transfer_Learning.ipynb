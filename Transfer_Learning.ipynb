{
  "nbformat": 4,
  "nbformat_minor": 0,
  "metadata": {
    "colab": {
      "name": "Transfer_Learning.ipynb",
      "provenance": [],
      "collapsed_sections": [],
      "toc_visible": true,
      "authorship_tag": "ABX9TyN17MVGrL24feuzn0XFtjl1",
      "include_colab_link": true
    },
    "kernelspec": {
      "name": "python3",
      "display_name": "Python 3"
    },
    "accelerator": "GPU"
  },
  "cells": [
    {
      "cell_type": "markdown",
      "metadata": {
        "id": "view-in-github",
        "colab_type": "text"
      },
      "source": [
        "<a href=\"https://colab.research.google.com/github/Shahid1993/pytorch-notebooks/blob/master/Transfer_Learning.ipynb\" target=\"_parent\"><img src=\"https://colab.research.google.com/assets/colab-badge.svg\" alt=\"Open In Colab\"/></a>"
      ]
    },
    {
      "cell_type": "markdown",
      "metadata": {
        "id": "smi5KBidK1ZY",
        "colab_type": "text"
      },
      "source": [
        "# [Transfer Learning with PyTorch](https://debuggercafe.com/transfer-learning-with-pytorch/)\n",
        "\n",
        "## What is Transfer Learning?\n",
        "Transfer learning is specifically using a neural network that has been pre-trained on a much larger dataset. The main benefit of using transfer learning is that the neural network has already learned many important features from a large dataset. When we use that network on our own dataset, we just need to tweak a few things to achieve good results.\n",
        "\n",
        "### When to Use Transfer Learning?\n",
        "In deep learning, transfer learning is most beneficial when we cannot obtain a huge dataset to train our network on. In some cases, we may not be able to get our hands on a big enough dataset. For such situations, using a pre-trained network is the best approach. A pre-trained network has already learned many important intermediate features from a larger dataset. Therefore, we can use that network on our small dataset.\n",
        "\n",
        "## What Will We Use?\n",
        "We will use the VGG16 network which uses the weights from the [ImageNet](http://image-net.org/download-imageurls) dataset.\n",
        "\n",
        "ImageNet contains more than 14 million images covering almost 22000 categories of images. It has held the ILSVRC (ImageNet Large Scale Visual Recognition Challenge) for years so that deep learning researchers and practitioners can use the huge dataset to come up with novel and sophisticated neural network architectures by using the images for training the networks.\n",
        "\n",
        "## VGG16\n",
        "The VGG network model was introduced by Karen Simonyan and Andrew Zisserman in the paper named [Very Deep Convolutional Networks for Large-Scale Image Recognition](https://arxiv.org/pdf/1409.1556.pdf).\n",
        "\n",
        "The following is the ConvNet Configuration from the original paper.\n",
        "\n",
        "![](https://debuggercafe.com/wp-content/uploads/2019/12/vgg_convnet_cofig.png)\n",
        "\n",
        "Specifically, we will be using the 16 layer architecture, which is the VGG16 model. VGG16 has 138 million parameters in total.\n",
        "\n",
        "### VGG Network Model Results on ImageNet\n",
        "In 2014, VGG models achieved great results in the ILSVRC challenge. The 16 layer model achieved 92.6% top-5 classification accuracy on the test set. Similarly, the 19 layer model was able to achieve 92.7% top-5 accuracy on the test set.\n",
        "\n",
        "![](https://debuggercafe.com/wp-content/uploads/2019/12/vgg_imagenet_results-e1576125540844.png)\n",
        "\n",
        "![](https://debuggercafe.com/wp-content/uploads/2019/12/vgg_voc_cal_results-e1576125629542.png)"
      ]
    },
    {
      "cell_type": "markdown",
      "metadata": {
        "id": "8s366yvqR1_P",
        "colab_type": "text"
      },
      "source": [
        "# Our Approach\n",
        "We will use the VGG16 network to classify [CIFAR10](https://www.cs.toronto.edu/~kriz/cifar.html) images.\n",
        "\n",
        "![](https://debuggercafe.com/wp-content/uploads/2019/12/cifar10_small.jpg)\n",
        "\n",
        "The CIFAR10 dataset contains images belonging to 10 classes. It has 60000 images in total. There are 50000 images for training and 10000 images for testing. All the images are of size 32×32."
      ]
    },
    {
      "cell_type": "markdown",
      "metadata": {
        "id": "_cto25NxSbho",
        "colab_type": "text"
      },
      "source": [
        "# Importing Required Modules and Libraries"
      ]
    },
    {
      "cell_type": "code",
      "metadata": {
        "id": "9_lnRdniKRjm",
        "colab_type": "code",
        "colab": {}
      },
      "source": [
        "import torch\n",
        "import torchvision\n",
        "import torchvision.transforms as transforms\n",
        "import torch.optim as optim\n",
        "import time\n",
        "import torch.nn.functional as F\n",
        "import torch.nn as nn\n",
        "import matplotlib.pyplot as plt\n",
        "\n",
        "from torchvision import models"
      ],
      "execution_count": 0,
      "outputs": []
    },
    {
      "cell_type": "code",
      "metadata": {
        "id": "Wgh8cTouTS-T",
        "colab_type": "code",
        "colab": {
          "base_uri": "https://localhost:8080/",
          "height": 35
        },
        "outputId": "e8825925-dc59-43d1-8896-d3801e4e4cbc"
      },
      "source": [
        "# check GPU availability\n",
        "device = torch.device(\"cuda:0\" if torch.cuda.is_available() else \"cpu\")\n",
        "print(device)"
      ],
      "execution_count": 2,
      "outputs": [
        {
          "output_type": "stream",
          "text": [
            "cuda:0\n"
          ],
          "name": "stdout"
        }
      ]
    },
    {
      "cell_type": "markdown",
      "metadata": {
        "id": "5KSl2_j-Tuvu",
        "colab_type": "text"
      },
      "source": [
        "# Downloading and Preparing the Dataset"
      ]
    },
    {
      "cell_type": "code",
      "metadata": {
        "id": "9Fv_EUmZTnmf",
        "colab_type": "code",
        "colab": {
          "base_uri": "https://localhost:8080/",
          "height": 52
        },
        "outputId": "d83b7555-d9de-4004-bf0d-b06b849ff81b"
      },
      "source": [
        "transform = transforms.Compose([\n",
        "                                transforms.Resize((224, 224)),\n",
        "                                transforms.ToTensor(),\n",
        "                                transforms.Normalize((0.5, 0.5, 0.5), (0.5, 0.5, 0.5))\n",
        "])\n",
        "\n",
        "trainset = torchvision.datasets.CIFAR10(root='./data', train=True, download=True, transform=transform)\n",
        "trainloader = torch.utils.data.DataLoader(trainset, batch_size=32, shuffle=True)\n",
        "\n",
        "testset = torchvision.datasets.CIFAR10(root='./data', train=False, download=True, transform=transform)\n",
        "testloader = torch.utils.data.DataLoader(testset, batch_size=32, shuffle=False)"
      ],
      "execution_count": 3,
      "outputs": [
        {
          "output_type": "stream",
          "text": [
            "Files already downloaded and verified\n",
            "Files already downloaded and verified\n"
          ],
          "name": "stdout"
        }
      ]
    },
    {
      "cell_type": "markdown",
      "metadata": {
        "id": "hTq-HAE6WV5v",
        "colab_type": "text"
      },
      "source": [
        "# Downloading the VGG16 Network"
      ]
    },
    {
      "cell_type": "code",
      "metadata": {
        "id": "9DJ2kZOpWWxO",
        "colab_type": "code",
        "colab": {
          "base_uri": "https://localhost:8080/",
          "height": 805
        },
        "outputId": "732e248b-340d-4f47-943e-3d46cb87bab3"
      },
      "source": [
        "vgg16 = models.vgg16(pretrained=True)\n",
        "vgg16.to(device)\n",
        "\n",
        "print(vgg16)"
      ],
      "execution_count": 4,
      "outputs": [
        {
          "output_type": "stream",
          "text": [
            "VGG(\n",
            "  (features): Sequential(\n",
            "    (0): Conv2d(3, 64, kernel_size=(3, 3), stride=(1, 1), padding=(1, 1))\n",
            "    (1): ReLU(inplace=True)\n",
            "    (2): Conv2d(64, 64, kernel_size=(3, 3), stride=(1, 1), padding=(1, 1))\n",
            "    (3): ReLU(inplace=True)\n",
            "    (4): MaxPool2d(kernel_size=2, stride=2, padding=0, dilation=1, ceil_mode=False)\n",
            "    (5): Conv2d(64, 128, kernel_size=(3, 3), stride=(1, 1), padding=(1, 1))\n",
            "    (6): ReLU(inplace=True)\n",
            "    (7): Conv2d(128, 128, kernel_size=(3, 3), stride=(1, 1), padding=(1, 1))\n",
            "    (8): ReLU(inplace=True)\n",
            "    (9): MaxPool2d(kernel_size=2, stride=2, padding=0, dilation=1, ceil_mode=False)\n",
            "    (10): Conv2d(128, 256, kernel_size=(3, 3), stride=(1, 1), padding=(1, 1))\n",
            "    (11): ReLU(inplace=True)\n",
            "    (12): Conv2d(256, 256, kernel_size=(3, 3), stride=(1, 1), padding=(1, 1))\n",
            "    (13): ReLU(inplace=True)\n",
            "    (14): Conv2d(256, 256, kernel_size=(3, 3), stride=(1, 1), padding=(1, 1))\n",
            "    (15): ReLU(inplace=True)\n",
            "    (16): MaxPool2d(kernel_size=2, stride=2, padding=0, dilation=1, ceil_mode=False)\n",
            "    (17): Conv2d(256, 512, kernel_size=(3, 3), stride=(1, 1), padding=(1, 1))\n",
            "    (18): ReLU(inplace=True)\n",
            "    (19): Conv2d(512, 512, kernel_size=(3, 3), stride=(1, 1), padding=(1, 1))\n",
            "    (20): ReLU(inplace=True)\n",
            "    (21): Conv2d(512, 512, kernel_size=(3, 3), stride=(1, 1), padding=(1, 1))\n",
            "    (22): ReLU(inplace=True)\n",
            "    (23): MaxPool2d(kernel_size=2, stride=2, padding=0, dilation=1, ceil_mode=False)\n",
            "    (24): Conv2d(512, 512, kernel_size=(3, 3), stride=(1, 1), padding=(1, 1))\n",
            "    (25): ReLU(inplace=True)\n",
            "    (26): Conv2d(512, 512, kernel_size=(3, 3), stride=(1, 1), padding=(1, 1))\n",
            "    (27): ReLU(inplace=True)\n",
            "    (28): Conv2d(512, 512, kernel_size=(3, 3), stride=(1, 1), padding=(1, 1))\n",
            "    (29): ReLU(inplace=True)\n",
            "    (30): MaxPool2d(kernel_size=2, stride=2, padding=0, dilation=1, ceil_mode=False)\n",
            "  )\n",
            "  (avgpool): AdaptiveAvgPool2d(output_size=(7, 7))\n",
            "  (classifier): Sequential(\n",
            "    (0): Linear(in_features=25088, out_features=4096, bias=True)\n",
            "    (1): ReLU(inplace=True)\n",
            "    (2): Dropout(p=0.5, inplace=False)\n",
            "    (3): Linear(in_features=4096, out_features=4096, bias=True)\n",
            "    (4): ReLU(inplace=True)\n",
            "    (5): Dropout(p=0.5, inplace=False)\n",
            "    (6): Linear(in_features=4096, out_features=1000, bias=True)\n",
            "  )\n",
            ")\n"
          ],
          "name": "stdout"
        }
      ]
    },
    {
      "cell_type": "markdown",
      "metadata": {
        "id": "HTwtu4iXXECq",
        "colab_type": "text"
      },
      "source": [
        "# Freezing Convolution Weights\n",
        "One important thing to notice here is that the classifier model is classifying 1000 classes. You can observe the very last `Linear` block to confirm that. But we need to classify the images into 10 classes only. So, we will change that. Also, we will freeze all the weights of the convolutional blocks. The model as already learned many features from the ImageNet dataset. So, freezing the `Conv2d()` weights will make the model to use all those pre-trained weights. This is the part that really justifies the term transfer learning."
      ]
    },
    {
      "cell_type": "code",
      "metadata": {
        "id": "pLQXFelsWnoj",
        "colab_type": "code",
        "colab": {}
      },
      "source": [
        "# change the no. of classes\n",
        "vgg16.classifier[6].out_features = 10\n",
        "\n",
        "# freeze convolution weights\n",
        "for param in vgg16.features.parameters():\n",
        "  param.requires_grad = False"
      ],
      "execution_count": 0,
      "outputs": []
    },
    {
      "cell_type": "markdown",
      "metadata": {
        "id": "VorghXb5X-Bs",
        "colab_type": "text"
      },
      "source": [
        "# Optimizer and Loss Function\n",
        "We will use the `CrossEntropyLoss()` and `SGD()` optimizer which work quite well in most cases. "
      ]
    },
    {
      "cell_type": "code",
      "metadata": {
        "id": "TF7pJMQMX9Jd",
        "colab_type": "code",
        "colab": {}
      },
      "source": [
        "# optimizer\n",
        "optimizer = optim.SGD(vgg16.classifier.parameters(), lr=0.001, momentum=0.9)\n",
        "\n",
        "# loss function\n",
        "criterion = nn.CrossEntropyLoss()"
      ],
      "execution_count": 0,
      "outputs": []
    },
    {
      "cell_type": "markdown",
      "metadata": {
        "id": "TgnH2MOjYitU",
        "colab_type": "text"
      },
      "source": [
        "# Training and Validation Functions"
      ]
    },
    {
      "cell_type": "code",
      "metadata": {
        "id": "5GVb7-v3Yfmb",
        "colab_type": "code",
        "colab": {}
      },
      "source": [
        "# validation function\n",
        "def validate(model, test_dataloader):\n",
        "  model.eval()\n",
        "  val_running_loss = 0.0\n",
        "  val_running_correct = 0\n",
        "\n",
        "  for int, data in enumerate(test_dataloader):\n",
        "    data, target = data[0].to(device), data[1].to(device)\n",
        "    output = model(data)\n",
        "    loss = criterion(output, target)\n",
        "\n",
        "    val_running_loss += loss.item()\n",
        "    _, preds = torch.max(output.data, 1)\n",
        "    val_running_correct += (preds == target).sum().item()\n",
        "\n",
        "  val_loss = val_running_loss / len(test_dataloader.dataset)\n",
        "  val_accuracy = 100 * val_running_correct / len(test_dataloader.dataset)\n",
        "\n",
        "  print(f'Validation Loss: {val_loss:.4f}, Validation Acc: {val_accuracy:.2f}')\n",
        "\n",
        "  return val_loss, val_accuracy"
      ],
      "execution_count": 0,
      "outputs": []
    },
    {
      "cell_type": "code",
      "metadata": {
        "id": "d6b4BseOfIbz",
        "colab_type": "code",
        "colab": {}
      },
      "source": [
        "# training function\n",
        "def fit(model, train_dataloader):\n",
        "  model.train()\n",
        "  train_running_loss = 0.0\n",
        "  train_running_correct = 0\n",
        "\n",
        "  for i, data in enumerate(train_dataloader):\n",
        "    data, target = data[0].to(device), data[1].to(device)\n",
        "    optimizer.zero_grad()\n",
        "    output = model(data)\n",
        "    loss = criterion(output, target)\n",
        "    train_running_loss += loss.item()\n",
        "\n",
        "    _, preds = torch.max(output.data, 1)\n",
        "    train_running_correct += (preds == target).sum().item()\n",
        "    loss.backward()\n",
        "    optimizer.step()\n",
        "  \n",
        "  train_loss = train_running_loss / len(train_dataloader.dataset)\n",
        "  train_accuracy = 100 * train_running_correct / len(train_dataloader.dataset)\n",
        "\n",
        "  print(f\"Train Loss: {train_loss:.4f}, Train Acc: {train_accuracy:.2f}\")\n",
        "\n",
        "  return train_loss, train_accuracy"
      ],
      "execution_count": 0,
      "outputs": []
    },
    {
      "cell_type": "markdown",
      "metadata": {
        "id": "tYI6oTD_h8ET",
        "colab_type": "text"
      },
      "source": [
        "# Training the Model"
      ]
    },
    {
      "cell_type": "code",
      "metadata": {
        "id": "9OphEs1UhuM4",
        "colab_type": "code",
        "colab": {
          "base_uri": "https://localhost:8080/",
          "height": 735
        },
        "outputId": "b7efe16d-e423-471e-c37f-4aea75af1b38"
      },
      "source": [
        "train_loss, train_accuracy = [], []\n",
        "val_loss, val_accuracy = [], []\n",
        "\n",
        "start = time.time()\n",
        "\n",
        "for epoch in range(20):\n",
        "  train_epoch_loss, train_epoch_accuracy = fit(vgg16, trainloader)\n",
        "  val_epoch_loss, val_epoch_accuracy = validate(vgg16, testloader)\n",
        "\n",
        "  train_loss.append(train_epoch_loss)\n",
        "  train_accuracy.append(train_epoch_accuracy)\n",
        "\n",
        "  val_loss.append(val_epoch_loss)\n",
        "  val_accuracy.append(val_epoch_accuracy)\n",
        "\n",
        "end = time.time()\n",
        "\n",
        "print((end-start), 'seconds')"
      ],
      "execution_count": 9,
      "outputs": [
        {
          "output_type": "stream",
          "text": [
            "Train Loss: 0.0257, Train Acc: 73.43\n",
            "Validation Loss: 0.0154, Validation Acc: 82.96\n",
            "Train Loss: 0.0147, Train Acc: 83.62\n",
            "Validation Loss: 0.0138, Validation Acc: 84.80\n",
            "Train Loss: 0.0117, Train Acc: 86.89\n",
            "Validation Loss: 0.0130, Validation Acc: 85.62\n",
            "Train Loss: 0.0094, Train Acc: 89.49\n",
            "Validation Loss: 0.0123, Validation Acc: 87.00\n",
            "Train Loss: 0.0074, Train Acc: 91.72\n",
            "Validation Loss: 0.0122, Validation Acc: 86.93\n",
            "Train Loss: 0.0057, Train Acc: 93.62\n",
            "Validation Loss: 0.0126, Validation Acc: 87.10\n",
            "Train Loss: 0.0043, Train Acc: 95.34\n",
            "Validation Loss: 0.0130, Validation Acc: 87.34\n",
            "Train Loss: 0.0031, Train Acc: 96.70\n",
            "Validation Loss: 0.0132, Validation Acc: 87.59\n",
            "Train Loss: 0.0024, Train Acc: 97.54\n",
            "Validation Loss: 0.0141, Validation Acc: 87.60\n",
            "Train Loss: 0.0017, Train Acc: 98.27\n",
            "Validation Loss: 0.0145, Validation Acc: 87.67\n",
            "Train Loss: 0.0013, Train Acc: 98.70\n",
            "Validation Loss: 0.0145, Validation Acc: 87.83\n",
            "Train Loss: 0.0010, Train Acc: 99.08\n",
            "Validation Loss: 0.0155, Validation Acc: 87.66\n",
            "Train Loss: 0.0008, Train Acc: 99.31\n",
            "Validation Loss: 0.0158, Validation Acc: 87.59\n",
            "Train Loss: 0.0007, Train Acc: 99.39\n",
            "Validation Loss: 0.0159, Validation Acc: 87.62\n",
            "Train Loss: 0.0006, Train Acc: 99.49\n",
            "Validation Loss: 0.0164, Validation Acc: 87.51\n",
            "Train Loss: 0.0005, Train Acc: 99.57\n",
            "Validation Loss: 0.0168, Validation Acc: 87.44\n",
            "Train Loss: 0.0004, Train Acc: 99.69\n",
            "Validation Loss: 0.0175, Validation Acc: 87.80\n",
            "Train Loss: 0.0004, Train Acc: 99.74\n",
            "Validation Loss: 0.0175, Validation Acc: 87.79\n",
            "Train Loss: 0.0003, Train Acc: 99.79\n",
            "Validation Loss: 0.0177, Validation Acc: 87.82\n",
            "Train Loss: 0.0003, Train Acc: 99.82\n",
            "Validation Loss: 0.0182, Validation Acc: 87.65\n",
            "7384.274388551712 seconds\n"
          ],
          "name": "stdout"
        }
      ]
    },
    {
      "cell_type": "markdown",
      "metadata": {
        "id": "aV1roY-dkDnv",
        "colab_type": "text"
      },
      "source": [
        "# Visualizing the Plots"
      ]
    },
    {
      "cell_type": "code",
      "metadata": {
        "id": "MvaV2Q-ejRC5",
        "colab_type": "code",
        "colab": {
          "base_uri": "https://localhost:8080/",
          "height": 428
        },
        "outputId": "30944f05-0947-455b-8605-46c528881689"
      },
      "source": [
        "plt.figure(figsize=(10,7))\n",
        "plt.plot(train_accuracy, color='green', label='Training Accuracy')\n",
        "plt.plot(val_accuracy, color='blue', label='Validation Accuracy')\n",
        "\n",
        "plt.legend()\n",
        "plt.savefig('accuracy.png')\n",
        "plt.show()"
      ],
      "execution_count": 10,
      "outputs": [
        {
          "output_type": "display_data",
          "data": {
            "image/png": "[encoded data removed]",
            "text/plain": [
              "<Figure size 720x504 with 1 Axes>"
            ]
          },
          "metadata": {
            "tags": []
          }
        }
      ]
    },
    {
      "cell_type": "code",
      "metadata": {
        "id": "pa2QKgBGk_C8",
        "colab_type": "code",
        "colab": {
          "base_uri": "https://localhost:8080/",
          "height": 428
        },
        "outputId": "e0673839-5bf7-4e86-9575-1502616f65d1"
      },
      "source": [
        "plt.figure(figsize=(10,7))\n",
        "plt.plot(train_loss, color='orange', label='Training Loss')\n",
        "plt.plot(val_loss, color='red', label='Validation Loss')\n",
        "plt.legend()\n",
        "plt.savefig('loss.png')\n",
        "plt.show()"
      ],
      "execution_count": 11,
      "outputs": [
        {
          "output_type": "display_data",
          "data": {
            "image/png": "[encoded data removed]",
            "text/plain": [
              "<Figure size 720x504 with 1 Axes>"
            ]
          },
          "metadata": {
            "tags": []
          }
        }
      ]
    },
    {
      "cell_type": "code",
      "metadata": {
        "id": "1ApuYWjrlUB-",
        "colab_type": "code",
        "colab": {}
      },
      "source": [
        ""
      ],
      "execution_count": 0,
      "outputs": []
    }
  ]
}