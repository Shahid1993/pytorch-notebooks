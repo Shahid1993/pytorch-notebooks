{
  "nbformat": 4,
  "nbformat_minor": 0,
  "metadata": {
    "colab": {
      "name": "01_ImageClassifier_using_CNN.ipynb",
      "provenance": [],
      "include_colab_link": true
    },
    "kernelspec": {
      "name": "python3",
      "display_name": "Python 3"
    },
    "accelerator": "GPU"
  },
  "cells": [
    {
      "cell_type": "markdown",
      "metadata": {
        "id": "view-in-github",
        "colab_type": "text"
      },
      "source": [
        "<a href=\"https://colab.research.google.com/github/Shahid1993/pytorch-notebooks/blob/master/01_ImageClassifier_using_CNN.ipynb\" target=\"_parent\"><img src=\"https://colab.research.google.com/assets/colab-badge.svg\" alt=\"Open In Colab\"/></a>"
      ]
    },
    {
      "cell_type": "markdown",
      "metadata": {
        "id": "vM_yO0e87OTv",
        "colab_type": "text"
      },
      "source": [
        "# Link : [Build an Image Classification Model using Convolutional Neural Networks in PyTorch](https://www.analyticsvidhya.com/blog/2019/10/building-image-classification-models-cnn-pytorch/?utm_source=blog&utm_medium=introduction-to-pytorch-from-scratch)"
      ]
    },
    {
      "cell_type": "code",
      "metadata": {
        "id": "oCnmdxRwo383",
        "colab_type": "code",
        "colab": {
          "base_uri": "https://localhost:8080/",
          "height": 35
        },
        "outputId": "a199ad78-f057-4873-8580-2c4f2cf479cb"
      },
      "source": [
        "from google.colab import drive\n",
        "drive.mount(\"/content/drive\")"
      ],
      "execution_count": 7,
      "outputs": [
        {
          "output_type": "stream",
          "text": [
            "Drive already mounted at /content/drive; to attempt to forcibly remount, call drive.mount(\"/content/drive\", force_remount=True).\n"
          ],
          "name": "stdout"
        }
      ]
    },
    {
      "cell_type": "markdown",
      "metadata": {
        "id": "v05oghOz7I5d",
        "colab_type": "text"
      },
      "source": [
        "# Importing Libraries"
      ]
    },
    {
      "cell_type": "code",
      "metadata": {
        "id": "97wgXD7btGCZ",
        "colab_type": "code",
        "colab": {}
      },
      "source": [
        "import pandas as pd\n",
        "import numpy as np\n",
        "\n",
        "# for reading and displaying images\n",
        "from skimage.io import imread\n",
        "import matplotlib.pyplot as plt\n",
        "%matplotlib inline\n",
        "\n",
        "# for creating validation set\n",
        "from sklearn.model_selection import train_test_split\n",
        "\n",
        "# for evaluating the model\n",
        "from sklearn.metrics import accuracy_score\n",
        "from tqdm import  tqdm\n",
        "\n",
        "# PyTorch Libraries and modules\n",
        "import torch\n",
        "from torch.autograd import Variable\n",
        "from torch.nn import Linear, ReLU, CrossEntropyLoss, Sequential, Conv2d, MaxPool2d, Module, Softmax, BatchNorm2d, Dropout\n",
        "from torch.optim import Adam, SGD"
      ],
      "execution_count": 0,
      "outputs": []
    },
    {
      "cell_type": "markdown",
      "metadata": {
        "id": "ARPDP-oQ8xIZ",
        "colab_type": "text"
      },
      "source": [
        "# Loading the dataset"
      ]
    },
    {
      "cell_type": "code",
      "metadata": {
        "id": "VaKC8VP4E4nN",
        "colab_type": "code",
        "colab": {}
      },
      "source": [
        "# import zipfile\n",
        "# with zipfile.ZipFile(\"/content/drive/My Drive/ML/data/Identify the Apparels - AnalyticsVidhya/test_ScVgIM0.zip\",\"r\") as zip_ref:\n",
        "#     zip_ref.extractall(\"/content/drive/My Drive/ML/data/Identify the Apparels - AnalyticsVidhya/test_ScVgIM0\")\n",
        "\n",
        "# import zipfile\n",
        "# with zipfile.ZipFile(\"/content/drive/My Drive/ML/data/Identify the Apparels - AnalyticsVidhya/train_LbELtWX.zip\",\"r\") as zip_ref:\n",
        "#     zip_ref.extractall(\"/content/drive/My Drive/ML/data/Identify the Apparels - AnalyticsVidhya/train_LbELtWX\")"
      ],
      "execution_count": 0,
      "outputs": []
    },
    {
      "cell_type": "code",
      "metadata": {
        "id": "GtEGnc3j8teq",
        "colab_type": "code",
        "colab": {
          "base_uri": "https://localhost:8080/",
          "height": 191
        },
        "outputId": "477764e2-3648-4e3c-f758-ba57598d611d"
      },
      "source": [
        "train = pd.read_csv(\"/content/drive/My Drive/ML/data/Identify the Apparels - AnalyticsVidhya/train_LbELtWX/train.csv\")\n",
        "test = pd.read_csv(\"/content/drive/My Drive/ML/data/Identify the Apparels - AnalyticsVidhya/test_ScVgIM0/test.csv\")\n",
        "\n",
        "sample_submission = pd.read_csv(\"/content/drive/My Drive/ML/data/Identify the Apparels - AnalyticsVidhya/sample_submission_I5njJSF.csv\")\n",
        "\n",
        "train.head()"
      ],
      "execution_count": 20,
      "outputs": [
        {
          "output_type": "execute_result",
          "data": {
            "text/html": [
              "<div>\n",
              "<style scoped>\n",
              "    .dataframe tbody tr th:only-of-type {\n",
              "        vertical-align: middle;\n",
              "    }\n",
              "\n",
              "    .dataframe tbody tr th {\n",
              "        vertical-align: top;\n",
              "    }\n",
              "\n",
              "    .dataframe thead th {\n",
              "        text-align: right;\n",
              "    }\n",
              "</style>\n",
              "<table border=\"1\" class=\"dataframe\">\n",
              "  <thead>\n",
              "    <tr style=\"text-align: right;\">\n",
              "      <th></th>\n",
              "      <th>id</th>\n",
              "      <th>label</th>\n",
              "    </tr>\n",
              "  </thead>\n",
              "  <tbody>\n",
              "    <tr>\n",
              "      <th>0</th>\n",
              "      <td>1</td>\n",
              "      <td>9</td>\n",
              "    </tr>\n",
              "    <tr>\n",
              "      <th>1</th>\n",
              "      <td>2</td>\n",
              "      <td>0</td>\n",
              "    </tr>\n",
              "    <tr>\n",
              "      <th>2</th>\n",
              "      <td>3</td>\n",
              "      <td>0</td>\n",
              "    </tr>\n",
              "    <tr>\n",
              "      <th>3</th>\n",
              "      <td>4</td>\n",
              "      <td>3</td>\n",
              "    </tr>\n",
              "    <tr>\n",
              "      <th>4</th>\n",
              "      <td>5</td>\n",
              "      <td>0</td>\n",
              "    </tr>\n",
              "  </tbody>\n",
              "</table>\n",
              "</div>"
            ],
            "text/plain": [
              "   id  label\n",
              "0   1      9\n",
              "1   2      0\n",
              "2   3      0\n",
              "3   4      3\n",
              "4   5      0"
            ]
          },
          "metadata": {
            "tags": []
          },
          "execution_count": 20
        }
      ]
    },
    {
      "cell_type": "markdown",
      "metadata": {
        "id": "TtZZJJp_-MJH",
        "colab_type": "text"
      },
      "source": [
        "# Loading Images"
      ]
    },
    {
      "cell_type": "code",
      "metadata": {
        "id": "2QF9LftC9c4I",
        "colab_type": "code",
        "colab": {
          "base_uri": "https://localhost:8080/",
          "height": 52
        },
        "outputId": "344083db-be44-4921-f934-f0b076e040a7"
      },
      "source": [
        "# loading training images\n",
        "\n",
        "train_img = []\n",
        "\n",
        "for img_name in tqdm(train['id']):\n",
        "  img_path = '/content/drive/My Drive/ML/data/Identify the Apparels - AnalyticsVidhya/train_LbELtWX/train/' + str(img_name) + '.png'\n",
        "\n",
        "  # reading image\n",
        "  img = imread(img_path, as_gray=True)\n",
        "\n",
        "  # normalizing the pixel values\n",
        "  img /= 255.0\n",
        "\n",
        "  #converting the type of pixel to float32\n",
        "  img = img.astype('float32')\n",
        "\n",
        "  train_img.append(img)\n",
        "\n",
        "\n",
        "# converting the list to numpy array\n",
        "train_x = np.array(train_img)\n",
        "# defining the target\n",
        "train_y = train['label'].values\n",
        "train_x.shape"
      ],
      "execution_count": 32,
      "outputs": [
        {
          "output_type": "stream",
          "text": [
            "100%|██████████| 60000/60000 [05:32<00:00, 180.57it/s]\n"
          ],
          "name": "stderr"
        },
        {
          "output_type": "execute_result",
          "data": {
            "text/plain": [
              "(60000, 28, 28)"
            ]
          },
          "metadata": {
            "tags": []
          },
          "execution_count": 32
        }
      ]
    },
    {
      "cell_type": "markdown",
      "metadata": {
        "id": "XOwBeQ-hPP0y",
        "colab_type": "text"
      },
      "source": [
        "# Visualizing a few images"
      ]
    },
    {
      "cell_type": "code",
      "metadata": {
        "id": "s4_10AGx_nBz",
        "colab_type": "code",
        "colab": {
          "base_uri": "https://localhost:8080/",
          "height": 627
        },
        "outputId": "3acdc734-cbe1-4dc6-efe1-8d9700f86f23"
      },
      "source": [
        "# visualizing images\n",
        "i = 0\n",
        "plt.figure(figsize=(10,10))\n",
        "plt.subplot(221), plt.imshow(train_x[i], cmap='gray')\n",
        "plt.subplot(222), plt.imshow(train_x[i+25], cmap='gray')\n",
        "plt.subplot(223), plt.imshow(train_x[i+50], cmap='gray')\n",
        "plt.subplot(224), plt.imshow(train_x[i+75], cmap='gray')"
      ],
      "execution_count": 33,
      "outputs": [
        {
          "output_type": "execute_result",
          "data": {
            "text/plain": [
              "(<matplotlib.axes._subplots.AxesSubplot at 0x7fe6b84e1a20>,\n",
              " <matplotlib.image.AxesImage at 0x7fe6b84c1c18>)"
            ]
          },
          "metadata": {
            "tags": []
          },
          "execution_count": 33
        },
        {
          "output_type": "display_data",
          "data": {
            "image/png": "[encoded data removed]",
            "text/plain": [
              "<Figure size 720x720 with 4 Axes>"
            ]
          },
          "metadata": {
            "tags": []
          }
        }
      ]
    },
    {
      "cell_type": "markdown",
      "metadata": {
        "id": "xgUQaYewVjXt",
        "colab_type": "text"
      },
      "source": [
        "# Creating a validation set and preprocessing the images"
      ]
    },
    {
      "cell_type": "code",
      "metadata": {
        "id": "GN4UvVArVkO4",
        "colab_type": "code",
        "colab": {
          "base_uri": "https://localhost:8080/",
          "height": 35
        },
        "outputId": "6b6a4669-fedd-4b1c-fef8-1ef7d3531cde"
      },
      "source": [
        "# create validation set\n",
        "train_x, val_x, train_y, val_y = train_test_split(train_x, train_y, test_size = 0.1)\n",
        "(train_x.shape, train_y.shape), (val_x.shape, val_y.shape)"
      ],
      "execution_count": 34,
      "outputs": [
        {
          "output_type": "execute_result",
          "data": {
            "text/plain": [
              "(((54000, 28, 28), (54000,)), ((6000, 28, 28), (6000,)))"
            ]
          },
          "metadata": {
            "tags": []
          },
          "execution_count": 34
        }
      ]
    },
    {
      "cell_type": "code",
      "metadata": {
        "id": "YdxNKRqQWN7I",
        "colab_type": "code",
        "colab": {
          "base_uri": "https://localhost:8080/",
          "height": 35
        },
        "outputId": "a63874f9-fca1-4348-ab49-9476e3adc094"
      },
      "source": [
        "# converting training images into torch format\n",
        "train_x = train_x.reshape(54000, 1, 28, 28)\n",
        "train_x  = torch.from_numpy(train_x)\n",
        "\n",
        "# converting the target into torch format\n",
        "train_y = train_y.astype(int);\n",
        "train_y = torch.from_numpy(train_y)\n",
        "\n",
        "# shape of training data\n",
        "train_x.shape, train_y.shape"
      ],
      "execution_count": 35,
      "outputs": [
        {
          "output_type": "execute_result",
          "data": {
            "text/plain": [
              "(torch.Size([54000, 1, 28, 28]), torch.Size([54000]))"
            ]
          },
          "metadata": {
            "tags": []
          },
          "execution_count": 35
        }
      ]
    },
    {
      "cell_type": "code",
      "metadata": {
        "id": "8JI_yVpYYFrt",
        "colab_type": "code",
        "colab": {
          "base_uri": "https://localhost:8080/",
          "height": 35
        },
        "outputId": "9b2999fd-5df9-41c1-f2ce-7e477859454a"
      },
      "source": [
        "# converting validation images into torch format\n",
        "val_x = val_x.reshape(6000, 1, 28, 28)\n",
        "val_x  = torch.from_numpy(val_x)\n",
        "\n",
        "# converting the target into torch format\n",
        "val_y = val_y.astype(int);\n",
        "val_y = torch.from_numpy(val_y)\n",
        "\n",
        "# shape of validation data\n",
        "val_x.shape, val_y.shape"
      ],
      "execution_count": 36,
      "outputs": [
        {
          "output_type": "execute_result",
          "data": {
            "text/plain": [
              "(torch.Size([6000, 1, 28, 28]), torch.Size([6000]))"
            ]
          },
          "metadata": {
            "tags": []
          },
          "execution_count": 36
        }
      ]
    },
    {
      "cell_type": "markdown",
      "metadata": {
        "id": "o8BZCy8xbZ0H",
        "colab_type": "text"
      },
      "source": [
        "# Implementing CNNs using PyTorch\n",
        "\n",
        "We will use a very simple CNN architecture with just 2 convolutional layers to extract features from the images. We’ll then use a fully connected dense layer to classify those features into their respective categories."
      ]
    },
    {
      "cell_type": "markdown",
      "metadata": {
        "id": "DoggGLXsbc0S",
        "colab_type": "text"
      },
      "source": [
        "## Define the architecture"
      ]
    },
    {
      "cell_type": "code",
      "metadata": {
        "id": "aJZCTvfQbNYs",
        "colab_type": "code",
        "colab": {}
      },
      "source": [
        "class Net(Module):\n",
        "  def __init__(self):\n",
        "    super(Net, self).__init__()\n",
        "\n",
        "\n",
        "    self.cnn_layers = Sequential(\n",
        "        # Defining a 2D convolutional layer\n",
        "        Conv2d(1, 4, kernel_size=3, stride=1, padding=1),\n",
        "        BatchNorm2d(4),\n",
        "        ReLU(inplace=True),\n",
        "        MaxPool2d(kernel_size=2, stride=2),\n",
        "        # Defining another 2D convolutional layer\n",
        "        Conv2d(4, 4, kernel_size=3, stride=1, padding=1),\n",
        "        BatchNorm2d(4),\n",
        "        ReLU(inplace=True),\n",
        "        MaxPool2d(kernel_size=2, stride=2)\n",
        "    )\n",
        "\n",
        "\n",
        "    self.linear_layers = Sequential(\n",
        "        Linear(4 * 7 * 7, 10)\n",
        "    )\n",
        "\n",
        "  # Defining the forward pass\n",
        "  def forward(self, x):\n",
        "    x = self.cnn_layers(x)\n",
        "    x = x.view(x.size(0), -1)\n",
        "    x = self.linear_layers(x)\n",
        "    return x  \n"
      ],
      "execution_count": 0,
      "outputs": []
    },
    {
      "cell_type": "code",
      "metadata": {
        "id": "RNRuzdQuescU",
        "colab_type": "code",
        "colab": {
          "base_uri": "https://localhost:8080/",
          "height": 280
        },
        "outputId": "7b14a271-1398-4960-b51d-128c5c1865da"
      },
      "source": [
        "# defining the model\n",
        "model = Net()\n",
        "\n",
        "# defining the optimizer \n",
        "optimizer = Adam(model.parameters(), lr=0.07)\n",
        "\n",
        "# defining the loss function\n",
        "criterion = CrossEntropyLoss()\n",
        "\n",
        "# checking if GPU is available\n",
        "if torch.cuda.is_available():\n",
        "  model = model.cuda()\n",
        "  criterion = criterion.cuda()\n",
        "\n",
        "print(model)"
      ],
      "execution_count": 38,
      "outputs": [
        {
          "output_type": "stream",
          "text": [
            "Net(\n",
            "  (cnn_layers): Sequential(\n",
            "    (0): Conv2d(1, 4, kernel_size=(3, 3), stride=(1, 1), padding=(1, 1))\n",
            "    (1): BatchNorm2d(4, eps=1e-05, momentum=0.1, affine=True, track_running_stats=True)\n",
            "    (2): ReLU(inplace=True)\n",
            "    (3): MaxPool2d(kernel_size=2, stride=2, padding=0, dilation=1, ceil_mode=False)\n",
            "    (4): Conv2d(4, 4, kernel_size=(3, 3), stride=(1, 1), padding=(1, 1))\n",
            "    (5): BatchNorm2d(4, eps=1e-05, momentum=0.1, affine=True, track_running_stats=True)\n",
            "    (6): ReLU(inplace=True)\n",
            "    (7): MaxPool2d(kernel_size=2, stride=2, padding=0, dilation=1, ceil_mode=False)\n",
            "  )\n",
            "  (linear_layers): Sequential(\n",
            "    (0): Linear(in_features=196, out_features=10, bias=True)\n",
            "  )\n",
            ")\n"
          ],
          "name": "stdout"
        }
      ]
    },
    {
      "cell_type": "markdown",
      "metadata": {
        "id": "tT0vDJR-f79G",
        "colab_type": "text"
      },
      "source": [
        "## Defining a function to train the model"
      ]
    },
    {
      "cell_type": "code",
      "metadata": {
        "id": "bj3FyUjPfYep",
        "colab_type": "code",
        "colab": {}
      },
      "source": [
        "def train(epoch):\n",
        "  model.train()\n",
        "  tr_loss = 0\n",
        "\n",
        "  # getting the training set\n",
        "  x_train, y_train = Variable(train_x), Variable(train_y)\n",
        "  # getting the validation set\n",
        "  x_val, y_val = Variable(val_x), Variable(val_y)\n",
        "  # converting the data into GPU format\n",
        "  if torch.cuda.is_available():\n",
        "    x_train = x_train.cuda()\n",
        "    y_train = y_train.cuda()\n",
        "    x_val = x_val.cuda()\n",
        "    y_val = y_val.cuda()\n",
        "\n",
        "  # clearing the gradients of the model parameters\n",
        "  optimizer.zero_grad()\n",
        "\n",
        "  # prediction for training and validation set\n",
        "  output_train = model(x_train)\n",
        "  output_val = model(x_val)\n",
        "\n",
        "  # computing the training and validatoin loss\n",
        "  loss_train = criterion(output_train, y_train)\n",
        "  loss_val = criterion(output_val, y_val)\n",
        "  train_losses.append(loss_train)\n",
        "  val_losses.append(loss_val)\n",
        "\n",
        "\n",
        "  # computed the updated weights of all the model parameters\n",
        "  loss_train.backward()\n",
        "  optimizer.step()\n",
        "  tr_loss = loss_train.item()\n",
        "\n",
        "  if epoch%2 == 0:\n",
        "    # printing the validation loss\n",
        "    print('Epoch : ', epoch+1, '\\t', 'loss : ', loss_val)\n",
        "\n",
        "    "
      ],
      "execution_count": 0,
      "outputs": []
    },
    {
      "cell_type": "markdown",
      "metadata": {
        "id": "0LYOzKtNiBrx",
        "colab_type": "text"
      },
      "source": [
        "### Training the model"
      ]
    },
    {
      "cell_type": "code",
      "metadata": {
        "id": "chgXXfzXh5My",
        "colab_type": "code",
        "colab": {
          "base_uri": "https://localhost:8080/",
          "height": 245
        },
        "outputId": "5963ef51-20f6-4bc0-8576-133e608ca355"
      },
      "source": [
        "# defining the number of epochs\n",
        "n_epochs = 25\n",
        "# empty list to store training losses\n",
        "train_losses = []\n",
        "# empty list to store validation losses\n",
        "val_losses = []\n",
        "# training the model\n",
        "for epoch in range(n_epochs):\n",
        "    train(epoch)"
      ],
      "execution_count": 40,
      "outputs": [
        {
          "output_type": "stream",
          "text": [
            "Epoch :  1 \t loss :  tensor(2.5046, device='cuda:0', grad_fn=<NllLossBackward>)\n",
            "Epoch :  3 \t loss :  tensor(4.5728, device='cuda:0', grad_fn=<NllLossBackward>)\n",
            "Epoch :  5 \t loss :  tensor(2.3672, device='cuda:0', grad_fn=<NllLossBackward>)\n",
            "Epoch :  7 \t loss :  tensor(2.2219, device='cuda:0', grad_fn=<NllLossBackward>)\n",
            "Epoch :  9 \t loss :  tensor(1.5837, device='cuda:0', grad_fn=<NllLossBackward>)\n",
            "Epoch :  11 \t loss :  tensor(1.5955, device='cuda:0', grad_fn=<NllLossBackward>)\n",
            "Epoch :  13 \t loss :  tensor(1.5245, device='cuda:0', grad_fn=<NllLossBackward>)\n",
            "Epoch :  15 \t loss :  tensor(1.3388, device='cuda:0', grad_fn=<NllLossBackward>)\n",
            "Epoch :  17 \t loss :  tensor(1.1649, device='cuda:0', grad_fn=<NllLossBackward>)\n",
            "Epoch :  19 \t loss :  tensor(1.0322, device='cuda:0', grad_fn=<NllLossBackward>)\n",
            "Epoch :  21 \t loss :  tensor(0.9465, device='cuda:0', grad_fn=<NllLossBackward>)\n",
            "Epoch :  23 \t loss :  tensor(0.8944, device='cuda:0', grad_fn=<NllLossBackward>)\n",
            "Epoch :  25 \t loss :  tensor(0.8523, device='cuda:0', grad_fn=<NllLossBackward>)\n"
          ],
          "name": "stdout"
        }
      ]
    },
    {
      "cell_type": "markdown",
      "metadata": {
        "id": "-VWeRHrniP42",
        "colab_type": "text"
      },
      "source": [
        "## Visualizing the training and validation losses"
      ]
    },
    {
      "cell_type": "code",
      "metadata": {
        "id": "_ZPvCbOLiTXn",
        "colab_type": "code",
        "colab": {
          "base_uri": "https://localhost:8080/",
          "height": 265
        },
        "outputId": "1a789de4-beab-4e73-bdf4-80fbe12c843d"
      },
      "source": [
        "# plotting the training and validation loss\n",
        "plt.plot(train_losses, label='Training loss')\n",
        "plt.plot(val_losses, label='Validation loss')\n",
        "plt.legend()\n",
        "plt.show()"
      ],
      "execution_count": 41,
      "outputs": [
        {
          "output_type": "display_data",
          "data": {
            "image/png": "[encoded data removed]",
            "text/plain": [
              "<Figure size 432x288 with 1 Axes>"
            ]
          },
          "metadata": {
            "tags": []
          }
        }
      ]
    },
    {
      "cell_type": "markdown",
      "metadata": {
        "id": "lSCEuO6riobO",
        "colab_type": "text"
      },
      "source": [
        "## Checking model accuracy on training and validation sets"
      ]
    },
    {
      "cell_type": "code",
      "metadata": {
        "id": "ivNf20OsiuQg",
        "colab_type": "code",
        "colab": {
          "base_uri": "https://localhost:8080/",
          "height": 35
        },
        "outputId": "ceef8a2a-baa5-4e18-cf48-72f2eac0ac9b"
      },
      "source": [
        "# prediction for training set\n",
        "with torch.no_grad():\n",
        "    output = model(train_x.cuda())\n",
        "    \n",
        "softmax = torch.exp(output).cpu()\n",
        "prob = list(softmax.numpy())\n",
        "predictions = np.argmax(prob, axis=1)\n",
        "\n",
        "# accuracy on training set\n",
        "accuracy_score(train_y, predictions)"
      ],
      "execution_count": 42,
      "outputs": [
        {
          "output_type": "execute_result",
          "data": {
            "text/plain": [
              "0.7278518518518519"
            ]
          },
          "metadata": {
            "tags": []
          },
          "execution_count": 42
        }
      ]
    },
    {
      "cell_type": "code",
      "metadata": {
        "id": "dtLeKM9xi9rQ",
        "colab_type": "code",
        "colab": {
          "base_uri": "https://localhost:8080/",
          "height": 35
        },
        "outputId": "88a4197f-f0ea-4c8b-cd30-94b0a4d81ca4"
      },
      "source": [
        "# prediction for validation set\n",
        "with torch.no_grad():\n",
        "    output = model(val_x.cuda())\n",
        "\n",
        "softmax = torch.exp(output).cpu()\n",
        "prob = list(softmax.numpy())\n",
        "predictions = np.argmax(prob, axis=1)\n",
        "\n",
        "# accuracy on validation set\n",
        "accuracy_score(val_y, predictions)"
      ],
      "execution_count": 43,
      "outputs": [
        {
          "output_type": "execute_result",
          "data": {
            "text/plain": [
              "0.726"
            ]
          },
          "metadata": {
            "tags": []
          },
          "execution_count": 43
        }
      ]
    },
    {
      "cell_type": "markdown",
      "metadata": {
        "id": "wiPEktssjCvo",
        "colab_type": "text"
      },
      "source": [
        "# Generating predictions for the test set"
      ]
    },
    {
      "cell_type": "code",
      "metadata": {
        "id": "sfac8AwTi-w2",
        "colab_type": "code",
        "colab": {
          "base_uri": "https://localhost:8080/",
          "height": 52
        },
        "outputId": "4ce285b4-d546-4593-d760-f28582c8c864"
      },
      "source": [
        "# loading test images\n",
        "test_img = []\n",
        "for img_name in tqdm(test['id']):\n",
        "    # defining the image path\n",
        "    image_path = '/content/drive/My Drive/ML/data/Identify the Apparels - AnalyticsVidhya/test_ScVgIM0/test/' + str(img_name) + '.png'\n",
        "    # reading the image\n",
        "    img = imread(image_path, as_gray=True)\n",
        "    # normalizing the pixel values\n",
        "    img /= 255.0\n",
        "    # converting the type of pixel to float 32\n",
        "    img = img.astype('float32')\n",
        "    # appending the image into the list\n",
        "    test_img.append(img)\n",
        "\n",
        "# converting the list to numpy array\n",
        "test_x = np.array(test_img)\n",
        "test_x.shape"
      ],
      "execution_count": 44,
      "outputs": [
        {
          "output_type": "stream",
          "text": [
            "100%|██████████| 10000/10000 [1:01:36<00:00,  3.17it/s]\n"
          ],
          "name": "stderr"
        },
        {
          "output_type": "execute_result",
          "data": {
            "text/plain": [
              "(10000, 28, 28)"
            ]
          },
          "metadata": {
            "tags": []
          },
          "execution_count": 44
        }
      ]
    },
    {
      "cell_type": "code",
      "metadata": {
        "id": "iXWwE1i5jQPg",
        "colab_type": "code",
        "colab": {
          "base_uri": "https://localhost:8080/",
          "height": 35
        },
        "outputId": "19699a11-48b9-4e42-e5ff-1cbcd48589d1"
      },
      "source": [
        "# converting test images into torch format\n",
        "test_x = test_x.reshape(10000, 1, 28, 28)\n",
        "test_x  = torch.from_numpy(test_x)\n",
        "test_x.shape"
      ],
      "execution_count": 45,
      "outputs": [
        {
          "output_type": "execute_result",
          "data": {
            "text/plain": [
              "torch.Size([10000, 1, 28, 28])"
            ]
          },
          "metadata": {
            "tags": []
          },
          "execution_count": 45
        }
      ]
    },
    {
      "cell_type": "code",
      "metadata": {
        "id": "Wul4eFS5ja27",
        "colab_type": "code",
        "colab": {}
      },
      "source": [
        "# generating predictions for test set\n",
        "with torch.no_grad():\n",
        "    output = model(test_x.cuda())\n",
        "\n",
        "softmax = torch.exp(output).cpu()\n",
        "prob = list(softmax.numpy())\n",
        "predictions = np.argmax(prob, axis=1)"
      ],
      "execution_count": 0,
      "outputs": []
    },
    {
      "cell_type": "markdown",
      "metadata": {
        "id": "8yTeYuA6jkLh",
        "colab_type": "text"
      },
      "source": [
        "Replace the labels in the sample submission file with the predictions and finally save the file and submit it on the leaderboard:"
      ]
    },
    {
      "cell_type": "code",
      "metadata": {
        "id": "ZG0AQ6vojiOP",
        "colab_type": "code",
        "colab": {
          "base_uri": "https://localhost:8080/",
          "height": 191
        },
        "outputId": "f444477c-55fb-4078-e366-a1c415825b1f"
      },
      "source": [
        "# replacing the label with prediction\n",
        "sample_submission['label'] = predictions\n",
        "sample_submission.head()"
      ],
      "execution_count": 47,
      "outputs": [
        {
          "output_type": "execute_result",
          "data": {
            "text/html": [
              "<div>\n",
              "<style scoped>\n",
              "    .dataframe tbody tr th:only-of-type {\n",
              "        vertical-align: middle;\n",
              "    }\n",
              "\n",
              "    .dataframe tbody tr th {\n",
              "        vertical-align: top;\n",
              "    }\n",
              "\n",
              "    .dataframe thead th {\n",
              "        text-align: right;\n",
              "    }\n",
              "</style>\n",
              "<table border=\"1\" class=\"dataframe\">\n",
              "  <thead>\n",
              "    <tr style=\"text-align: right;\">\n",
              "      <th></th>\n",
              "      <th>id</th>\n",
              "      <th>label</th>\n",
              "    </tr>\n",
              "  </thead>\n",
              "  <tbody>\n",
              "    <tr>\n",
              "      <th>0</th>\n",
              "      <td>60001</td>\n",
              "      <td>9</td>\n",
              "    </tr>\n",
              "    <tr>\n",
              "      <th>1</th>\n",
              "      <td>60002</td>\n",
              "      <td>2</td>\n",
              "    </tr>\n",
              "    <tr>\n",
              "      <th>2</th>\n",
              "      <td>60003</td>\n",
              "      <td>1</td>\n",
              "    </tr>\n",
              "    <tr>\n",
              "      <th>3</th>\n",
              "      <td>60004</td>\n",
              "      <td>1</td>\n",
              "    </tr>\n",
              "    <tr>\n",
              "      <th>4</th>\n",
              "      <td>60005</td>\n",
              "      <td>6</td>\n",
              "    </tr>\n",
              "  </tbody>\n",
              "</table>\n",
              "</div>"
            ],
            "text/plain": [
              "      id  label\n",
              "0  60001      9\n",
              "1  60002      2\n",
              "2  60003      1\n",
              "3  60004      1\n",
              "4  60005      6"
            ]
          },
          "metadata": {
            "tags": []
          },
          "execution_count": 47
        }
      ]
    },
    {
      "cell_type": "code",
      "metadata": {
        "id": "o3OtRD1KkS_5",
        "colab_type": "code",
        "colab": {}
      },
      "source": [
        "# saving the file\n",
        "sample_submission.to_csv('/content/drive/My Drive/ML/data/Identify the Apparels - AnalyticsVidhya/submission_cnn.csv', index=False)"
      ],
      "execution_count": 0,
      "outputs": []
    },
    {
      "cell_type": "code",
      "metadata": {
        "id": "2AejfG8Qkped",
        "colab_type": "code",
        "colab": {}
      },
      "source": [
        ""
      ],
      "execution_count": 0,
      "outputs": []
    }
  ]
}