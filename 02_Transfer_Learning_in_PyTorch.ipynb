{
  "nbformat": 4,
  "nbformat_minor": 0,
  "metadata": {
    "colab": {
      "name": "02_Transfer_Learning_in_PyTorch.ipynb",
      "provenance": [],
      "collapsed_sections": [],
      "toc_visible": true,
      "authorship_tag": "ABX9TyNQF3z3deS+e+ePDoc7Bc+P",
      "include_colab_link": true
    },
    "kernelspec": {
      "name": "python3",
      "display_name": "Python 3"
    },
    "accelerator": "GPU"
  },
  "cells": [
    {
      "cell_type": "markdown",
      "metadata": {
        "id": "view-in-github",
        "colab_type": "text"
      },
      "source": [
        "<a href=\"https://colab.research.google.com/github/Shahid1993/pytorch-notebooks/blob/master/02_Transfer_Learning_in_PyTorch.ipynb\" target=\"_parent\"><img src=\"https://colab.research.google.com/assets/colab-badge.svg\" alt=\"Open In Colab\"/></a>"
      ]
    },
    {
      "cell_type": "markdown",
      "metadata": {
        "id": "i5qo926qP2B7",
        "colab_type": "text"
      },
      "source": [
        "# [Deep Learning for Everyone: Master the Powerful Art of Transfer Learning using PyTorch](https://www.analyticsvidhya.com/blog/2019/10/how-to-master-transfer-learning-using-pytorch/?utm_source=blog&utm_medium=introduction-to-pytorch-from-scratch)"
      ]
    },
    {
      "cell_type": "code",
      "metadata": {
        "id": "T5vcBYcYR6UO",
        "colab_type": "code",
        "outputId": "0d316fc7-18d8-4b01-cd3d-01a3fa0229cc",
        "colab": {
          "base_uri": "https://localhost:8080/",
          "height": 125
        }
      },
      "source": [
        "from google.colab import drive\n",
        "drive.mount(\"/content/drive\")"
      ],
      "execution_count": 1,
      "outputs": [
        {
          "output_type": "stream",
          "text": [
            "Go to this URL in a browser: https://accounts.google.com/o/oauth2/auth?client_id=947318989803-6bn6qk8qdgf4n4g3pfee6491hc0brc4i.apps.googleusercontent.com&redirect_uri=urn%3aietf%3awg%3aoauth%3a2.0%3aoob&response_type=code&scope=email%20https%3a%2f%2fwww.googleapis.com%2fauth%2fdocs.test%20https%3a%2f%2fwww.googleapis.com%2fauth%2fdrive%20https%3a%2f%2fwww.googleapis.com%2fauth%2fdrive.photos.readonly%20https%3a%2f%2fwww.googleapis.com%2fauth%2fpeopleapi.readonly\n",
            "\n",
            "Enter your authorization code:\n",
            "··········\n",
            "Mounted at /content/drive\n"
          ],
          "name": "stdout"
        }
      ]
    },
    {
      "cell_type": "code",
      "metadata": {
        "id": "IyZx72VBPwZ_",
        "colab_type": "code",
        "colab": {}
      },
      "source": [
        "# importing the libraries\n",
        "import pandas as pd\n",
        "import numpy as np\n",
        "from tqdm import tqdm\n",
        "\n",
        "# for reading and displaying images\n",
        "from skimage.io import imread\n",
        "from skimage.transform import resize\n",
        "import matplotlib.pyplot as plt\n",
        "%matplotlib inline\n",
        "\n",
        "# for creating the validation set\n",
        "from sklearn.model_selection import train_test_split\n",
        "\n",
        "# for evaluating model accuracy\n",
        "from sklearn.metrics import accuracy_score\n",
        "\n",
        "# PyTorch libraries and modules\n",
        "import torch\n",
        "from torch.autograd import Variable\n",
        "from torch.nn import Linear, ReLU, CrossEntropyLoss, Sequential, Conv2d, MaxPool2d, Module, Softmax, BatchNorm2d, Dropout\n",
        "from torch.optim import Adam, SGD\n",
        "\n",
        "# torch-vision for pre-trained models\n",
        "from torchvision import models"
      ],
      "execution_count": 0,
      "outputs": []
    },
    {
      "cell_type": "markdown",
      "metadata": {
        "id": "z4zjtTBKS-sl",
        "colab_type": "text"
      },
      "source": [
        "# Loading dataset"
      ]
    },
    {
      "cell_type": "code",
      "metadata": {
        "id": "s20P040gRy2s",
        "colab_type": "code",
        "colab": {}
      },
      "source": [
        "import zipfile\n",
        "with zipfile.ZipFile(\"/content/drive/My Drive/ML/data/emergency_vs_non-emergency_dataset.zip\",\"r\") as zip_ref:\n",
        "    zip_ref.extractall(\"/content/drive/My Drive/ML/data\")"
      ],
      "execution_count": 0,
      "outputs": []
    },
    {
      "cell_type": "code",
      "metadata": {
        "id": "6YD66twWSy-W",
        "colab_type": "code",
        "outputId": "784e51ae-7a5e-439f-b598-20a2ecbe4cf0",
        "colab": {
          "base_uri": "https://localhost:8080/",
          "height": 191
        }
      },
      "source": [
        "train = pd.read_csv(\"/content/drive/My Drive/ML/data/emergency_vs_non-emergency_dataset/emergency_train.csv\")\n",
        "train.head()"
      ],
      "execution_count": 5,
      "outputs": [
        {
          "output_type": "execute_result",
          "data": {
            "text/html": [
              "<div>\n",
              "<style scoped>\n",
              "    .dataframe tbody tr th:only-of-type {\n",
              "        vertical-align: middle;\n",
              "    }\n",
              "\n",
              "    .dataframe tbody tr th {\n",
              "        vertical-align: top;\n",
              "    }\n",
              "\n",
              "    .dataframe thead th {\n",
              "        text-align: right;\n",
              "    }\n",
              "</style>\n",
              "<table border=\"1\" class=\"dataframe\">\n",
              "  <thead>\n",
              "    <tr style=\"text-align: right;\">\n",
              "      <th></th>\n",
              "      <th>image_names</th>\n",
              "      <th>emergency_or_not</th>\n",
              "    </tr>\n",
              "  </thead>\n",
              "  <tbody>\n",
              "    <tr>\n",
              "      <th>0</th>\n",
              "      <td>1503.jpg</td>\n",
              "      <td>0</td>\n",
              "    </tr>\n",
              "    <tr>\n",
              "      <th>1</th>\n",
              "      <td>1420.jpg</td>\n",
              "      <td>0</td>\n",
              "    </tr>\n",
              "    <tr>\n",
              "      <th>2</th>\n",
              "      <td>1764.jpg</td>\n",
              "      <td>0</td>\n",
              "    </tr>\n",
              "    <tr>\n",
              "      <th>3</th>\n",
              "      <td>1356.jpg</td>\n",
              "      <td>0</td>\n",
              "    </tr>\n",
              "    <tr>\n",
              "      <th>4</th>\n",
              "      <td>1117.jpg</td>\n",
              "      <td>0</td>\n",
              "    </tr>\n",
              "  </tbody>\n",
              "</table>\n",
              "</div>"
            ],
            "text/plain": [
              "  image_names  emergency_or_not\n",
              "0    1503.jpg                 0\n",
              "1    1420.jpg                 0\n",
              "2    1764.jpg                 0\n",
              "3    1356.jpg                 0\n",
              "4    1117.jpg                 0"
            ]
          },
          "metadata": {
            "tags": []
          },
          "execution_count": 5
        }
      ]
    },
    {
      "cell_type": "code",
      "metadata": {
        "id": "nG1gRGH8T90b",
        "colab_type": "code",
        "outputId": "f37b8670-8176-4fe9-f713-340517a094e3",
        "colab": {
          "base_uri": "https://localhost:8080/",
          "height": 52
        }
      },
      "source": [
        "# loading training images\n",
        "\n",
        "train_img = []\n",
        "for img_name in tqdm(train['image_names']):\n",
        "  img_path = '/content/drive/My Drive/ML/data/emergency_vs_non-emergency_dataset/images/' + img_name\n",
        "  img = imread(img_path)\n",
        "  # normalizing the pixel values\n",
        "  img = img / 255\n",
        "  # resizing the image to (224, 224, 3)\n",
        "  img = resize(img, output_shape=(224, 224, 3), mode='constant', anti_aliasing=True)\n",
        "  # converting the type of pixel to float32\n",
        "  img = img.astype('float32')\n",
        "\n",
        "  # appending the image to the list\n",
        "  train_img.append(img)\n",
        "\n",
        "# converting the list to numpy array\n",
        "train_x = np.array(train_img)\n",
        "train_x.shape\n",
        "    \n"
      ],
      "execution_count": 6,
      "outputs": [
        {
          "output_type": "stream",
          "text": [
            "100%|██████████| 1646/1646 [00:20<00:00, 79.54it/s]\n"
          ],
          "name": "stderr"
        },
        {
          "output_type": "execute_result",
          "data": {
            "text/plain": [
              "(1646, 224, 224, 3)"
            ]
          },
          "metadata": {
            "tags": []
          },
          "execution_count": 6
        }
      ]
    },
    {
      "cell_type": "code",
      "metadata": {
        "id": "5P3TuDIJVe4T",
        "colab_type": "code",
        "outputId": "25da3476-4539-448a-bf54-5aa20a491726",
        "colab": {
          "base_uri": "https://localhost:8080/",
          "height": 287
        }
      },
      "source": [
        "# Exploring the data\n",
        "\n",
        "index = 10\n",
        "plt.imshow(train_x[index])\n",
        "if(train['emergency_or_not'][index] == 1):\n",
        "  print('It is an Emergency Vehicle...')\n",
        "else:\n",
        "  print('It is a Non-Emergency Vehicle...')"
      ],
      "execution_count": 7,
      "outputs": [
        {
          "output_type": "stream",
          "text": [
            "It is an Emergency Vehicle...\n"
          ],
          "name": "stdout"
        },
        {
          "output_type": "display_data",
          "data": {
            "image/png": "[encoded data removed]",
            "text/plain": [
              "<Figure size 432x288 with 1 Axes>"
            ]
          },
          "metadata": {
            "tags": []
          }
        }
      ]
    },
    {
      "cell_type": "code",
      "metadata": {
        "id": "foFqCrYBWGtx",
        "colab_type": "code",
        "colab": {}
      },
      "source": [
        "# defining the target\n",
        "train_y = train['emergency_or_not'].values"
      ],
      "execution_count": 0,
      "outputs": []
    },
    {
      "cell_type": "markdown",
      "metadata": {
        "id": "5X98-26dW0Mw",
        "colab_type": "text"
      },
      "source": [
        "### Creating a validation Set"
      ]
    },
    {
      "cell_type": "code",
      "metadata": {
        "id": "hji9np33WllC",
        "colab_type": "code",
        "outputId": "3dff3cc2-2322-40e1-b9a8-c64f906029e0",
        "colab": {
          "base_uri": "https://localhost:8080/",
          "height": 35
        }
      },
      "source": [
        "# create validation set\n",
        "train_x, val_x, train_y, val_y = train_test_split(train_x, train_y, test_size=0.1, random_state=13, stratify=train_y)\n",
        "(train_x.shape, train_y.shape), (val_x.shape, val_y.shape)"
      ],
      "execution_count": 9,
      "outputs": [
        {
          "output_type": "execute_result",
          "data": {
            "text/plain": [
              "(((1481, 224, 224, 3), (1481,)), ((165, 224, 224, 3), (165,)))"
            ]
          },
          "metadata": {
            "tags": []
          },
          "execution_count": 9
        }
      ]
    },
    {
      "cell_type": "markdown",
      "metadata": {
        "id": "YYBi6L_8XdfK",
        "colab_type": "text"
      },
      "source": [
        "### Converting dataset to torch format"
      ]
    },
    {
      "cell_type": "code",
      "metadata": {
        "id": "uT40rrqVXW_c",
        "colab_type": "code",
        "outputId": "fd655db7-c96b-40e8-8169-8777c229da39",
        "colab": {
          "base_uri": "https://localhost:8080/",
          "height": 35
        }
      },
      "source": [
        "# converting training images to torch format\n",
        "train_x = train_x.reshape(1481, 3, 224, 224)\n",
        "train_x = torch.from_numpy(train_x)\n",
        "\n",
        "# converting the target to torch format\n",
        "train_y = train_y.astype(int)\n",
        "train_y = torch.from_numpy(train_y)\n",
        "\n",
        "# shape of training data\n",
        "train_x.shape, train_y.shape"
      ],
      "execution_count": 10,
      "outputs": [
        {
          "output_type": "execute_result",
          "data": {
            "text/plain": [
              "(torch.Size([1481, 3, 224, 224]), torch.Size([1481]))"
            ]
          },
          "metadata": {
            "tags": []
          },
          "execution_count": 10
        }
      ]
    },
    {
      "cell_type": "code",
      "metadata": {
        "id": "kMPwtB1WYNIq",
        "colab_type": "code",
        "outputId": "efe1ca92-28b0-4a1b-b4ef-3c36fc563f6a",
        "colab": {
          "base_uri": "https://localhost:8080/",
          "height": 35
        }
      },
      "source": [
        "# converting validation images into torch format\n",
        "val_x = val_x.reshape(165, 3, 224, 224)\n",
        "val_x = torch.from_numpy(val_x)\n",
        "\n",
        "# converting the target to torch format\n",
        "val_y = val_y.astype(int)\n",
        "val_y = torch.from_numpy(val_y)\n",
        "\n",
        "# shape of validation data\n",
        "val_x.shape, val_y.shape"
      ],
      "execution_count": 11,
      "outputs": [
        {
          "output_type": "execute_result",
          "data": {
            "text/plain": [
              "(torch.Size([165, 3, 224, 224]), torch.Size([165]))"
            ]
          },
          "metadata": {
            "tags": []
          },
          "execution_count": 11
        }
      ]
    },
    {
      "cell_type": "markdown",
      "metadata": {
        "id": "zS7rbgyJZ653",
        "colab_type": "text"
      },
      "source": [
        "# Solving the Challenge using CNN"
      ]
    },
    {
      "cell_type": "markdown",
      "metadata": {
        "id": "R3zE5F_seKMm",
        "colab_type": "text"
      },
      "source": [
        "### Defining the model architecture"
      ]
    },
    {
      "cell_type": "code",
      "metadata": {
        "id": "fmz8SMNiZ1vr",
        "colab_type": "code",
        "colab": {}
      },
      "source": [
        "class Net(Module):\n",
        "  def __init__(self):\n",
        "    super(Net, self).__init__()\n",
        "\n",
        "    self.cnn_layers = Sequential(\n",
        "        # Defining a Conv2D layer\n",
        "        Conv2d(3, 4, kernel_size=3, stride=1, padding=1),\n",
        "        BatchNorm2d(4),\n",
        "        ReLU(inplace=True),\n",
        "        MaxPool2d(kernel_size=2, stride=2),\n",
        "\n",
        "        # Defining another 2D Convolutional Layer\n",
        "        Conv2d(4, 8, kernel_size=3, stride=1, padding=1),\n",
        "        BatchNorm2d(8),\n",
        "        ReLU(inplace=True),\n",
        "        MaxPool2d(kernel_size=2, stride=2)\n",
        "    )\n",
        "\n",
        "    self.linear_layers = Sequential(\n",
        "        Linear(8 * 56 * 56, 2)\n",
        "    )\n",
        "\n",
        "  # Defining the forward pass\n",
        "  def forward(self, x):\n",
        "    x = self.cnn_layers(x)\n",
        "    x = x.view(x.size(0), -1)\n",
        "    x = self.linear_layers(x)\n",
        "    return x"
      ],
      "execution_count": 0,
      "outputs": []
    },
    {
      "cell_type": "code",
      "metadata": {
        "id": "iEL5lP6Xc4D7",
        "colab_type": "code",
        "outputId": "5ec2b995-2364-4b50-b226-12aa29f1044b",
        "colab": {
          "base_uri": "https://localhost:8080/",
          "height": 280
        }
      },
      "source": [
        "# defining the model\n",
        "model = Net()\n",
        "\n",
        "# defining the optimizer\n",
        "optimizer = Adam(model.parameters(), lr=0.0001)\n",
        "\n",
        "# defining the loss function\n",
        "criterion = CrossEntropyLoss()\n",
        "\n",
        "# checking if gpu is available\n",
        "if torch.cuda.is_available():\n",
        "  model = model.cuda()\n",
        "  criterion = criterion.cuda()\n",
        "\n",
        "print(model)"
      ],
      "execution_count": 13,
      "outputs": [
        {
          "output_type": "stream",
          "text": [
            "Net(\n",
            "  (cnn_layers): Sequential(\n",
            "    (0): Conv2d(3, 4, kernel_size=(3, 3), stride=(1, 1), padding=(1, 1))\n",
            "    (1): BatchNorm2d(4, eps=1e-05, momentum=0.1, affine=True, track_running_stats=True)\n",
            "    (2): ReLU(inplace=True)\n",
            "    (3): MaxPool2d(kernel_size=2, stride=2, padding=0, dilation=1, ceil_mode=False)\n",
            "    (4): Conv2d(4, 8, kernel_size=(3, 3), stride=(1, 1), padding=(1, 1))\n",
            "    (5): BatchNorm2d(8, eps=1e-05, momentum=0.1, affine=True, track_running_stats=True)\n",
            "    (6): ReLU(inplace=True)\n",
            "    (7): MaxPool2d(kernel_size=2, stride=2, padding=0, dilation=1, ceil_mode=False)\n",
            "  )\n",
            "  (linear_layers): Sequential(\n",
            "    (0): Linear(in_features=25088, out_features=2, bias=True)\n",
            "  )\n",
            ")\n"
          ],
          "name": "stdout"
        }
      ]
    },
    {
      "cell_type": "code",
      "metadata": {
        "id": "8_pYQfwudjA-",
        "colab_type": "code",
        "outputId": "fd07732d-9caa-4ee6-a38b-1b27f30caf46",
        "colab": {
          "base_uri": "https://localhost:8080/",
          "height": 542
        }
      },
      "source": [
        "# batch size of the model\n",
        "batch_size = 128\n",
        "\n",
        "# no. of epochs to train the model\n",
        "n_epochs = 15\n",
        "\n",
        "for epoch in range(1, n_epochs+1):\n",
        "\n",
        "  # keep track of training and validation loss\n",
        "  train_loss = 0.0\n",
        "\n",
        "  permutation = torch.randperm(train_x.size()[0])\n",
        "\n",
        "  training_loss = []\n",
        "\n",
        "  for i in tqdm(range(0, train_x.size()[0], batch_size)):\n",
        "\n",
        "    indices = permutation[i:i+batch_size]\n",
        "    batch_x, batch_y = train_x[indices], train_y[indices]\n",
        "\n",
        "    if torch.cuda.is_available():\n",
        "      batch_x, batch_y = batch_x.cuda(), batch_y.cuda()\n",
        "\n",
        "    optimizer.zero_grad()\n",
        "\n",
        "    # in case you wanted a semi-full example\n",
        "    outputs = model(batch_x)\n",
        "    loss = criterion(outputs, batch_y)\n",
        "\n",
        "    training_loss.append(loss.item())\n",
        "    loss.backward()\n",
        "    optimizer.step()\n",
        "\n",
        "  training_loss = np.average(training_loss)\n",
        "  print('Epoch: \\t', epoch, '\\t Training Loss: \\t', training_loss)"
      ],
      "execution_count": 14,
      "outputs": [
        {
          "output_type": "stream",
          "text": [
            "100%|██████████| 12/12 [00:01<00:00, 10.56it/s]\n",
            " 17%|█▋        | 2/12 [00:00<00:00, 15.52it/s]"
          ],
          "name": "stderr"
        },
        {
          "output_type": "stream",
          "text": [
            "Epoch: \t 1 \t Training Loss: \t 0.8739065527915955\n"
          ],
          "name": "stdout"
        },
        {
          "output_type": "stream",
          "text": [
            "100%|██████████| 12/12 [00:00<00:00, 13.78it/s]\n",
            " 17%|█▋        | 2/12 [00:00<00:00, 15.48it/s]"
          ],
          "name": "stderr"
        },
        {
          "output_type": "stream",
          "text": [
            "Epoch: \t 2 \t Training Loss: \t 0.6826314876476923\n"
          ],
          "name": "stdout"
        },
        {
          "output_type": "stream",
          "text": [
            "100%|██████████| 12/12 [00:00<00:00, 13.69it/s]\n",
            " 17%|█▋        | 2/12 [00:00<00:00, 15.27it/s]"
          ],
          "name": "stderr"
        },
        {
          "output_type": "stream",
          "text": [
            "Epoch: \t 3 \t Training Loss: \t 0.6196133097012838\n"
          ],
          "name": "stdout"
        },
        {
          "output_type": "stream",
          "text": [
            "100%|██████████| 12/12 [00:00<00:00, 13.62it/s]\n",
            " 17%|█▋        | 2/12 [00:00<00:00, 15.51it/s]"
          ],
          "name": "stderr"
        },
        {
          "output_type": "stream",
          "text": [
            "Epoch: \t 4 \t Training Loss: \t 0.5767600983381271\n"
          ],
          "name": "stdout"
        },
        {
          "output_type": "stream",
          "text": [
            "100%|██████████| 12/12 [00:00<00:00, 13.63it/s]\n",
            " 17%|█▋        | 2/12 [00:00<00:00, 15.79it/s]"
          ],
          "name": "stderr"
        },
        {
          "output_type": "stream",
          "text": [
            "Epoch: \t 5 \t Training Loss: \t 0.5450718154509863\n"
          ],
          "name": "stdout"
        },
        {
          "output_type": "stream",
          "text": [
            "100%|██████████| 12/12 [00:00<00:00, 13.62it/s]\n",
            " 17%|█▋        | 2/12 [00:00<00:00, 15.67it/s]"
          ],
          "name": "stderr"
        },
        {
          "output_type": "stream",
          "text": [
            "Epoch: \t 6 \t Training Loss: \t 0.5235856299599012\n"
          ],
          "name": "stdout"
        },
        {
          "output_type": "stream",
          "text": [
            "100%|██████████| 12/12 [00:00<00:00, 13.66it/s]\n",
            " 17%|█▋        | 2/12 [00:00<00:00, 15.32it/s]"
          ],
          "name": "stderr"
        },
        {
          "output_type": "stream",
          "text": [
            "Epoch: \t 7 \t Training Loss: \t 0.5030707741777102\n"
          ],
          "name": "stdout"
        },
        {
          "output_type": "stream",
          "text": [
            "100%|██████████| 12/12 [00:00<00:00, 13.60it/s]\n",
            " 17%|█▋        | 2/12 [00:00<00:00, 15.21it/s]"
          ],
          "name": "stderr"
        },
        {
          "output_type": "stream",
          "text": [
            "Epoch: \t 8 \t Training Loss: \t 0.472393440703551\n"
          ],
          "name": "stdout"
        },
        {
          "output_type": "stream",
          "text": [
            "100%|██████████| 12/12 [00:00<00:00, 13.69it/s]\n",
            " 17%|█▋        | 2/12 [00:00<00:00, 15.70it/s]"
          ],
          "name": "stderr"
        },
        {
          "output_type": "stream",
          "text": [
            "Epoch: \t 9 \t Training Loss: \t 0.46101384858290356\n"
          ],
          "name": "stdout"
        },
        {
          "output_type": "stream",
          "text": [
            "100%|██████████| 12/12 [00:00<00:00, 13.70it/s]\n",
            " 17%|█▋        | 2/12 [00:00<00:00, 15.34it/s]"
          ],
          "name": "stderr"
        },
        {
          "output_type": "stream",
          "text": [
            "Epoch: \t 10 \t Training Loss: \t 0.44815683116515476\n"
          ],
          "name": "stdout"
        },
        {
          "output_type": "stream",
          "text": [
            "100%|██████████| 12/12 [00:00<00:00, 13.64it/s]\n",
            " 17%|█▋        | 2/12 [00:00<00:00, 15.65it/s]"
          ],
          "name": "stderr"
        },
        {
          "output_type": "stream",
          "text": [
            "Epoch: \t 11 \t Training Loss: \t 0.41871164242426556\n"
          ],
          "name": "stdout"
        },
        {
          "output_type": "stream",
          "text": [
            "100%|██████████| 12/12 [00:00<00:00, 13.71it/s]\n",
            " 17%|█▋        | 2/12 [00:00<00:00, 15.44it/s]"
          ],
          "name": "stderr"
        },
        {
          "output_type": "stream",
          "text": [
            "Epoch: \t 12 \t Training Loss: \t 0.3980668957034747\n"
          ],
          "name": "stdout"
        },
        {
          "output_type": "stream",
          "text": [
            "100%|██████████| 12/12 [00:00<00:00, 13.63it/s]\n",
            " 17%|█▋        | 2/12 [00:00<00:00, 15.80it/s]"
          ],
          "name": "stderr"
        },
        {
          "output_type": "stream",
          "text": [
            "Epoch: \t 13 \t Training Loss: \t 0.3936941747864087\n"
          ],
          "name": "stdout"
        },
        {
          "output_type": "stream",
          "text": [
            "100%|██████████| 12/12 [00:00<00:00, 13.63it/s]\n",
            " 17%|█▋        | 2/12 [00:00<00:00, 15.09it/s]"
          ],
          "name": "stderr"
        },
        {
          "output_type": "stream",
          "text": [
            "Epoch: \t 14 \t Training Loss: \t 0.3732961018880208\n"
          ],
          "name": "stdout"
        },
        {
          "output_type": "stream",
          "text": [
            "100%|██████████| 12/12 [00:00<00:00, 13.57it/s]"
          ],
          "name": "stderr"
        },
        {
          "output_type": "stream",
          "text": [
            "Epoch: \t 15 \t Training Loss: \t 0.3525199194749196\n"
          ],
          "name": "stdout"
        },
        {
          "output_type": "stream",
          "text": [
            "\n"
          ],
          "name": "stderr"
        }
      ]
    },
    {
      "cell_type": "markdown",
      "metadata": {
        "id": "m7iSha7diOSo",
        "colab_type": "text"
      },
      "source": [
        "# Checking Training and validation accuracies"
      ]
    },
    {
      "cell_type": "code",
      "metadata": {
        "id": "rV6pzq8Chk5w",
        "colab_type": "code",
        "outputId": "07f3dc10-ec6b-46ae-f6b2-25f35a3bbe63",
        "colab": {
          "base_uri": "https://localhost:8080/",
          "height": 52
        }
      },
      "source": [
        "# prediction for training set\n",
        "prediction = []\n",
        "target = []\n",
        "permutation = torch.randperm(train_x.size()[0])\n",
        "for i in tqdm(range(0,train_x.size()[0], batch_size)):\n",
        "    indices = permutation[i:i+batch_size]\n",
        "    batch_x, batch_y = train_x[indices], train_y[indices]\n",
        "\n",
        "    if torch.cuda.is_available():\n",
        "        batch_x, batch_y = batch_x.cuda(), batch_y.cuda()\n",
        "\n",
        "    with torch.no_grad():\n",
        "        output = model(batch_x)\n",
        "\n",
        "    softmax = torch.exp(output).cpu()\n",
        "    prob = list(softmax.numpy())\n",
        "    predictions = np.argmax(prob, axis=1)\n",
        "    prediction.append(predictions)\n",
        "    target.append(batch_y)\n",
        "    \n",
        "# training accuracy\n",
        "accuracy = []\n",
        "for i in range(len(prediction)):\n",
        "    accuracy.append(accuracy_score(target[i].cpu(),prediction[i]))\n",
        "    \n",
        "print('training accuracy: \\t', np.average(accuracy))"
      ],
      "execution_count": 15,
      "outputs": [
        {
          "output_type": "stream",
          "text": [
            "100%|██████████| 12/12 [00:00<00:00, 18.28it/s]\n"
          ],
          "name": "stderr"
        },
        {
          "output_type": "stream",
          "text": [
            "training accuracy: \t 0.8803510273972602\n"
          ],
          "name": "stdout"
        }
      ]
    },
    {
      "cell_type": "code",
      "metadata": {
        "id": "fDkTay-qnZag",
        "colab_type": "code",
        "outputId": "90092f0e-1965-455d-afec-2509f304ba26",
        "colab": {
          "base_uri": "https://localhost:8080/",
          "height": 52
        }
      },
      "source": [
        "# prediction for validation set\n",
        "prediction_val = []\n",
        "target_val = []\n",
        "\n",
        "permutation = torch.randperm(val_x.size()[0])\n",
        "\n",
        "for i in tqdm(range(0, val_x.size()[0], batch_size)):\n",
        "  indices = permutation[i:i+batch_size]\n",
        "\n",
        "  batch_x, batch_y = val_x[indices], val_y[indices]\n",
        "\n",
        "  if torch.cuda.is_available():\n",
        "    batch_x, batch_y = batch_x.cuda(), batch_y.cuda()\n",
        "\n",
        "  with torch.no_grad():\n",
        "    output = model(batch_x)\n",
        "\n",
        "  softmax = torch.exp(output).cpu()\n",
        "  prob = list(softmax.numpy())\n",
        "  predictions = np.argmax(prob, axis=1)\n",
        "  prediction_val.append(predictions)\n",
        "  target_val.append(batch_y)\n",
        "\n",
        "# validation accuracy\n",
        "accuracy_val = []\n",
        "for i in range(len(prediction_val)):\n",
        "  accuracy_val.append(accuracy_score(target_val[i].cpu(), prediction_val[i]))\n",
        "\n",
        "print('Valiation accuracy: \\t', np.average(accuracy_val))"
      ],
      "execution_count": 16,
      "outputs": [
        {
          "output_type": "stream",
          "text": [
            "100%|██████████| 2/2 [00:00<00:00, 25.76it/s]"
          ],
          "name": "stderr"
        },
        {
          "output_type": "stream",
          "text": [
            "Valiation accuracy: \t 0.6374577702702703\n"
          ],
          "name": "stdout"
        },
        {
          "output_type": "stream",
          "text": [
            "\n"
          ],
          "name": "stderr"
        }
      ]
    },
    {
      "cell_type": "markdown",
      "metadata": {
        "id": "zKAfLCdlq1DC",
        "colab_type": "text"
      },
      "source": [
        "# Solving the Challenge using Transfer Learning\n",
        "\n",
        "We will be using the VGG16 pre-trained model trained on the ImageNet dataset. Let’s look at the steps we will be following to train the model using transfer learning:\n",
        "\n",
        "1. First, we will load the weights of the pre-trained model – VGG16 in our case\n",
        "2. Then we will fine tune the model as per the problem at hand\n",
        "3. Next, we will use these pre-trained weights and extract features for our images\n",
        "4. Finally, we will train the fine tuned model using the extracted features"
      ]
    },
    {
      "cell_type": "markdown",
      "metadata": {
        "id": "R61gFvXVrdf4",
        "colab_type": "text"
      },
      "source": [
        "### Load model weights"
      ]
    },
    {
      "cell_type": "code",
      "metadata": {
        "id": "VHUlfMFcqe7h",
        "colab_type": "code",
        "outputId": "d36b5b7a-a960-455e-d02e-d65ab13e3c86",
        "colab": {
          "base_uri": "https://localhost:8080/",
          "height": 52
        }
      },
      "source": [
        "# loading the pre-trained models\n",
        "model = models.vgg16_bn(pretrained=True)"
      ],
      "execution_count": 17,
      "outputs": [
        {
          "output_type": "stream",
          "text": [
            "Downloading: \"https://download.pytorch.org/models/vgg16_bn-6c64b313.pth\" to /root/.cache/torch/checkpoints/vgg16_bn-6c64b313.pth\n",
            "100%|██████████| 528M/528M [00:09<00:00, 57.2MB/s]\n"
          ],
          "name": "stderr"
        }
      ]
    },
    {
      "cell_type": "markdown",
      "metadata": {
        "id": "FGoJKx57rhVL",
        "colab_type": "text"
      },
      "source": [
        "### Freeze model weights"
      ]
    },
    {
      "cell_type": "code",
      "metadata": {
        "id": "9ZhMuEo2rjay",
        "colab_type": "code",
        "colab": {}
      },
      "source": [
        "# Freeze model weights\n",
        "for param in model.parameters():\n",
        "  param.requires_grad = False"
      ],
      "execution_count": 0,
      "outputs": []
    },
    {
      "cell_type": "markdown",
      "metadata": {
        "id": "16Q9c6tJr8PL",
        "colab_type": "text"
      },
      "source": [
        "### Update the final layer (classification layer) as per our problem - 2 classes instead of 1000 classes of VGG16"
      ]
    },
    {
      "cell_type": "code",
      "metadata": {
        "id": "1JBPSrYpr7U1",
        "colab_type": "code",
        "colab": {}
      },
      "source": [
        "# Add on classifier\n",
        "model.classifier[6] = Sequential(Linear(4096, 2))\n",
        "\n",
        "for param in model.classifier[6].parameters():\n",
        "  param.requires_grad = True"
      ],
      "execution_count": 0,
      "outputs": []
    },
    {
      "cell_type": "code",
      "metadata": {
        "id": "Qu2-gCEbs8fM",
        "colab_type": "code",
        "colab": {}
      },
      "source": [
        "# Checking if GPU is available\n",
        "if torch.cuda.is_available():\n",
        "  model = model.cuda()"
      ],
      "execution_count": 0,
      "outputs": []
    },
    {
      "cell_type": "markdown",
      "metadata": {
        "id": "DFFh-23JtjCW",
        "colab_type": "text"
      },
      "source": [
        "### Extracting features for training and validation images"
      ]
    },
    {
      "cell_type": "code",
      "metadata": {
        "id": "RpS9i4FEthnZ",
        "colab_type": "code",
        "outputId": "061e9327-a2c9-49ac-90c7-f5e9a0275f19",
        "colab": {
          "base_uri": "https://localhost:8080/",
          "height": 35
        }
      },
      "source": [
        "# batch size\n",
        "batch_size = 128\n",
        "\n",
        "# extracting features for train_data\n",
        "data_x = []\n",
        "label_x = []\n",
        "\n",
        "inputs, labels = train_x, train_y\n",
        "\n",
        "for i in tqdm(range(int(train_x.shape[0] / batch_size)+1)):\n",
        "  input_data = inputs[i*batch_size:(i+1)*batch_size]\n",
        "  label_data = labels[i*batch_size:(i+1)*batch_size]\n",
        "\n",
        "  input_data, label_data = Variable(input_data.cuda()), Variable(label_data.cuda())\n",
        "\n",
        "  x = model.features(input_data)\n",
        "  data_x.extend(x.data.cpu().numpy())\n",
        "  label_x.extend(label_data.data.cpu().numpy())\n",
        "\n",
        "  "
      ],
      "execution_count": 21,
      "outputs": [
        {
          "output_type": "stream",
          "text": [
            "100%|██████████| 12/12 [00:07<00:00,  1.77it/s]\n"
          ],
          "name": "stderr"
        }
      ]
    },
    {
      "cell_type": "code",
      "metadata": {
        "id": "2BJq1a6yzwlO",
        "colab_type": "code",
        "outputId": "9d8931aa-1e36-48de-abfd-a4374efb74c4",
        "colab": {
          "base_uri": "https://localhost:8080/",
          "height": 35
        }
      },
      "source": [
        "# extracting features for validation data\n",
        "\n",
        "data_y = []\n",
        "label_y = []\n",
        "\n",
        "inputs, labels = val_x, val_y\n",
        "\n",
        "for i in tqdm(range(int(val_x.shape[0] / batch_size) + 1)):\n",
        "  input_data = inputs[i*batch_size:(i+1)*batch_size]\n",
        "  label_data = labels[i*batch_size:(i+1)*batch_size]\n",
        "\n",
        "  input_data, label_data = Variable(input_data.cuda()), Variable(label_data.cuda())\n",
        "\n",
        "  x = model.features(input_data)\n",
        "  data_y.extend(x.data.cpu().numpy())\n",
        "  label_y.extend(label_data.data.cpu().numpy())\n"
      ],
      "execution_count": 22,
      "outputs": [
        {
          "output_type": "stream",
          "text": [
            "100%|██████████| 2/2 [00:00<00:00,  1.78it/s]\n"
          ],
          "name": "stderr"
        }
      ]
    },
    {
      "cell_type": "code",
      "metadata": {
        "id": "7DbAIC7G6COT",
        "colab_type": "code",
        "colab": {}
      },
      "source": [
        "# converting the features into torch format\n",
        "x_train = torch.from_numpy(np.array(data_x))\n",
        "x_train = x_train.view(x_train.size(0), -1)\n",
        "y_train = torch.from_numpy(np.array(label_x))\n",
        "\n",
        "x_val = torch.from_numpy(np.array(data_y))\n",
        "x_val = x_val.view(x_val.size(0), -1)\n",
        "y_val = torch.from_numpy(np.array(label_y))"
      ],
      "execution_count": 0,
      "outputs": []
    },
    {
      "cell_type": "markdown",
      "metadata": {
        "id": "xOHQZZ5J7Ou-",
        "colab_type": "text"
      },
      "source": [
        "### Define Optimizer and loss function for our model"
      ]
    },
    {
      "cell_type": "code",
      "metadata": {
        "id": "E0AF6_OC7MWk",
        "colab_type": "code",
        "colab": {}
      },
      "source": [
        "import torch.optim as optim\n",
        "\n",
        "# specify loss function\n",
        "criterion = CrossEntropyLoss()\n",
        "\n",
        "# specify optimizer\n",
        "optimizer = optim.Adam(model.classifier[6].parameters(), lr=0.0005)"
      ],
      "execution_count": 0,
      "outputs": []
    },
    {
      "cell_type": "markdown",
      "metadata": {
        "id": "L8gp_g9k76SH",
        "colab_type": "text"
      },
      "source": [
        "### Training model"
      ]
    },
    {
      "cell_type": "code",
      "metadata": {
        "id": "ZCwFR76v72yQ",
        "colab_type": "code",
        "outputId": "6d837449-3b2a-44a6-df69-a974f45368a8",
        "colab": {
          "base_uri": "https://localhost:8080/",
          "height": 560
        }
      },
      "source": [
        "# batch size\n",
        "batch_size = 128\n",
        "\n",
        "# number of epochs to train the model\n",
        "n_epochs = 30\n",
        "\n",
        "for epoch in tqdm(range(1, n_epochs+1)):\n",
        "\n",
        "    # keep track of training and validation loss\n",
        "    train_loss = 0.0\n",
        "        \n",
        "    permutation = torch.randperm(x_train.size()[0])\n",
        "\n",
        "    training_loss = []\n",
        "    for i in range(0,x_train.size()[0], batch_size):\n",
        "\n",
        "        indices = permutation[i:i+batch_size]\n",
        "        batch_x, batch_y = x_train[indices], y_train[indices]\n",
        "        \n",
        "        if torch.cuda.is_available():\n",
        "            batch_x, batch_y = batch_x.cuda(), batch_y.cuda()\n",
        "        \n",
        "        optimizer.zero_grad()\n",
        "        # in case you wanted a semi-full example\n",
        "        outputs = model.classifier(batch_x)\n",
        "        loss = criterion(outputs,batch_y)\n",
        "\n",
        "        training_loss.append(loss.item())\n",
        "        loss.backward()\n",
        "        optimizer.step()\n",
        "        \n",
        "    training_loss = np.average(training_loss)\n",
        "    print('epoch: \\t', epoch, '\\t training loss: \\t', training_loss)"
      ],
      "execution_count": 25,
      "outputs": [
        {
          "output_type": "stream",
          "text": [
            "  7%|▋         | 2/30 [00:00<00:05,  4.86it/s]"
          ],
          "name": "stderr"
        },
        {
          "output_type": "stream",
          "text": [
            "epoch: \t 1 \t training loss: \t 0.5898649245500565\n",
            "epoch: \t 2 \t training loss: \t 0.4976205031077067\n"
          ],
          "name": "stdout"
        },
        {
          "output_type": "stream",
          "text": [
            " 13%|█▎        | 4/30 [00:00<00:04,  5.48it/s]"
          ],
          "name": "stderr"
        },
        {
          "output_type": "stream",
          "text": [
            "epoch: \t 3 \t training loss: \t 0.4766268655657768\n",
            "epoch: \t 4 \t training loss: \t 0.45136770854393643\n"
          ],
          "name": "stdout"
        },
        {
          "output_type": "stream",
          "text": [
            " 20%|██        | 6/30 [00:01<00:04,  5.97it/s]"
          ],
          "name": "stderr"
        },
        {
          "output_type": "stream",
          "text": [
            "epoch: \t 5 \t training loss: \t 0.43965677668650943\n",
            "epoch: \t 6 \t training loss: \t 0.4265967284639676\n"
          ],
          "name": "stdout"
        },
        {
          "output_type": "stream",
          "text": [
            " 27%|██▋       | 8/30 [00:01<00:03,  6.25it/s]"
          ],
          "name": "stderr"
        },
        {
          "output_type": "stream",
          "text": [
            "epoch: \t 7 \t training loss: \t 0.4247075269619624\n",
            "epoch: \t 8 \t training loss: \t 0.41333430012067157\n"
          ],
          "name": "stdout"
        },
        {
          "output_type": "stream",
          "text": [
            " 33%|███▎      | 10/30 [00:01<00:03,  6.36it/s]"
          ],
          "name": "stderr"
        },
        {
          "output_type": "stream",
          "text": [
            "epoch: \t 9 \t training loss: \t 0.4009480228026708\n",
            "epoch: \t 10 \t training loss: \t 0.40423870583375293\n"
          ],
          "name": "stdout"
        },
        {
          "output_type": "stream",
          "text": [
            " 40%|████      | 12/30 [00:01<00:02,  6.38it/s]"
          ],
          "name": "stderr"
        },
        {
          "output_type": "stream",
          "text": [
            "epoch: \t 11 \t training loss: \t 0.40640713026126224\n",
            "epoch: \t 12 \t training loss: \t 0.3881566921869914\n"
          ],
          "name": "stdout"
        },
        {
          "output_type": "stream",
          "text": [
            " 47%|████▋     | 14/30 [00:02<00:02,  6.45it/s]"
          ],
          "name": "stderr"
        },
        {
          "output_type": "stream",
          "text": [
            "epoch: \t 13 \t training loss: \t 0.38211048394441605\n",
            "epoch: \t 14 \t training loss: \t 0.38583119710286456\n"
          ],
          "name": "stdout"
        },
        {
          "output_type": "stream",
          "text": [
            " 53%|█████▎    | 16/30 [00:02<00:02,  6.45it/s]"
          ],
          "name": "stderr"
        },
        {
          "output_type": "stream",
          "text": [
            "epoch: \t 15 \t training loss: \t 0.3752950007716815\n",
            "epoch: \t 16 \t training loss: \t 0.3737300584713618\n"
          ],
          "name": "stdout"
        },
        {
          "output_type": "stream",
          "text": [
            " 60%|██████    | 18/30 [00:02<00:01,  6.42it/s]"
          ],
          "name": "stderr"
        },
        {
          "output_type": "stream",
          "text": [
            "epoch: \t 17 \t training loss: \t 0.37405649572610855\n",
            "epoch: \t 18 \t training loss: \t 0.3751760348677635\n"
          ],
          "name": "stdout"
        },
        {
          "output_type": "stream",
          "text": [
            " 67%|██████▋   | 20/30 [00:03<00:01,  6.49it/s]"
          ],
          "name": "stderr"
        },
        {
          "output_type": "stream",
          "text": [
            "epoch: \t 19 \t training loss: \t 0.3789556349317233\n",
            "epoch: \t 20 \t training loss: \t 0.3705957258741061\n"
          ],
          "name": "stdout"
        },
        {
          "output_type": "stream",
          "text": [
            " 73%|███████▎  | 22/30 [00:03<00:01,  6.50it/s]"
          ],
          "name": "stderr"
        },
        {
          "output_type": "stream",
          "text": [
            "epoch: \t 21 \t training loss: \t 0.36488648504018784\n",
            "epoch: \t 22 \t training loss: \t 0.3707384417454402\n"
          ],
          "name": "stdout"
        },
        {
          "output_type": "stream",
          "text": [
            " 80%|████████  | 24/30 [00:03<00:00,  6.47it/s]"
          ],
          "name": "stderr"
        },
        {
          "output_type": "stream",
          "text": [
            "epoch: \t 23 \t training loss: \t 0.34721732636292774\n",
            "epoch: \t 24 \t training loss: \t 0.3597051997979482\n"
          ],
          "name": "stdout"
        },
        {
          "output_type": "stream",
          "text": [
            " 87%|████████▋ | 26/30 [00:04<00:00,  6.52it/s]"
          ],
          "name": "stderr"
        },
        {
          "output_type": "stream",
          "text": [
            "epoch: \t 25 \t training loss: \t 0.3473519558707873\n",
            "epoch: \t 26 \t training loss: \t 0.35548730939626694\n"
          ],
          "name": "stdout"
        },
        {
          "output_type": "stream",
          "text": [
            " 93%|█████████▎| 28/30 [00:04<00:00,  6.54it/s]"
          ],
          "name": "stderr"
        },
        {
          "output_type": "stream",
          "text": [
            "epoch: \t 27 \t training loss: \t 0.3471622144182523\n",
            "epoch: \t 28 \t training loss: \t 0.3505983476837476\n"
          ],
          "name": "stdout"
        },
        {
          "output_type": "stream",
          "text": [
            "100%|██████████| 30/30 [00:04<00:00,  6.55it/s]"
          ],
          "name": "stderr"
        },
        {
          "output_type": "stream",
          "text": [
            "epoch: \t 29 \t training loss: \t 0.34715692947308224\n",
            "epoch: \t 30 \t training loss: \t 0.3455287615458171\n"
          ],
          "name": "stdout"
        },
        {
          "output_type": "stream",
          "text": [
            "\n"
          ],
          "name": "stderr"
        }
      ]
    },
    {
      "cell_type": "code",
      "metadata": {
        "id": "4cTzJ-iW-cZX",
        "colab_type": "code",
        "outputId": "d037d623-23b4-48ba-fdd7-4c1eff4a8623",
        "colab": {
          "base_uri": "https://localhost:8080/",
          "height": 52
        }
      },
      "source": [
        "# prediction for training set\n",
        "prediction = []\n",
        "target = []\n",
        "permutation = torch.randperm(x_train.size()[0])\n",
        "for i in tqdm(range(0,x_train.size()[0], batch_size)):\n",
        "    indices = permutation[i:i+batch_size]\n",
        "    batch_x, batch_y = x_train[indices], y_train[indices]\n",
        "\n",
        "    if torch.cuda.is_available():\n",
        "        batch_x, batch_y = batch_x.cuda(), batch_y.cuda()\n",
        "\n",
        "    with torch.no_grad():\n",
        "        output = model.classifier(batch_x.cuda())\n",
        "\n",
        "    softmax = torch.exp(output).cpu()\n",
        "    prob = list(softmax.numpy())\n",
        "    predictions = np.argmax(prob, axis=1)\n",
        "    prediction.append(predictions)\n",
        "    target.append(batch_y)\n",
        "    \n",
        "# training accuracy\n",
        "accuracy = []\n",
        "for i in range(len(prediction)):\n",
        "    accuracy.append(accuracy_score(target[i].cpu(),prediction[i]))\n",
        "    \n",
        "print('training accuracy: \\t', np.average(accuracy))"
      ],
      "execution_count": 26,
      "outputs": [
        {
          "output_type": "stream",
          "text": [
            "100%|██████████| 12/12 [00:00<00:00, 54.46it/s]"
          ],
          "name": "stderr"
        },
        {
          "output_type": "stream",
          "text": [
            "training accuracy: \t 0.8544698915525114\n"
          ],
          "name": "stdout"
        },
        {
          "output_type": "stream",
          "text": [
            "\n"
          ],
          "name": "stderr"
        }
      ]
    },
    {
      "cell_type": "code",
      "metadata": {
        "id": "6gzcdBSd-pzH",
        "colab_type": "code",
        "outputId": "4eb0f5e2-9440-4fcb-b00b-10e4bfed6c1d",
        "colab": {
          "base_uri": "https://localhost:8080/",
          "height": 52
        }
      },
      "source": [
        "# prediction for validation set\n",
        "prediction_val = []\n",
        "target_val = []\n",
        "permutation = torch.randperm(x_val.size()[0])\n",
        "for i in tqdm(range(0,x_val.size()[0], batch_size)):\n",
        "    indices = permutation[i:i+batch_size]\n",
        "    batch_x, batch_y = x_val[indices], y_val[indices]\n",
        "\n",
        "    if torch.cuda.is_available():\n",
        "        batch_x, batch_y = batch_x.cuda(), batch_y.cuda()\n",
        "\n",
        "    with torch.no_grad():\n",
        "        output = model.classifier(batch_x.cuda())\n",
        "\n",
        "    softmax = torch.exp(output).cpu()\n",
        "    prob = list(softmax.numpy())\n",
        "    predictions = np.argmax(prob, axis=1)\n",
        "    prediction_val.append(predictions)\n",
        "    target_val.append(batch_y)\n",
        "    \n",
        "# validation accuracy\n",
        "accuracy_val = []\n",
        "for i in range(len(prediction_val)):\n",
        "    accuracy_val.append(accuracy_score(target_val[i].cpu(),prediction_val[i]))\n",
        "    \n",
        "print('validation accuracy: \\t', np.average(accuracy_val))"
      ],
      "execution_count": 27,
      "outputs": [
        {
          "output_type": "stream",
          "text": [
            "100%|██████████| 2/2 [00:00<00:00, 81.48it/s]"
          ],
          "name": "stderr"
        },
        {
          "output_type": "stream",
          "text": [
            "validation accuracy: \t 0.8578969594594594\n"
          ],
          "name": "stdout"
        },
        {
          "output_type": "stream",
          "text": [
            "\n"
          ],
          "name": "stderr"
        }
      ]
    },
    {
      "cell_type": "code",
      "metadata": {
        "id": "pF2ksw_A-xKH",
        "colab_type": "code",
        "colab": {}
      },
      "source": [
        ""
      ],
      "execution_count": 0,
      "outputs": []
    }
  ]
}