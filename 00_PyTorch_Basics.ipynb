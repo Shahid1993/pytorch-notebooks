{
  "nbformat": 4,
  "nbformat_minor": 0,
  "metadata": {
    "colab": {
      "name": "00_PyTorch_Basics.ipynb",
      "provenance": [],
      "toc_visible": true,
      "include_colab_link": true
    },
    "kernelspec": {
      "name": "python3",
      "display_name": "Python 3"
    },
    "accelerator": "GPU"
  },
  "cells": [
    {
      "cell_type": "markdown",
      "metadata": {
        "id": "view-in-github",
        "colab_type": "text"
      },
      "source": [
        "<a href=\"https://colab.research.google.com/github/Shahid1993/pytorch-notebooks/blob/master/00_PyTorch_Basics.ipynb\" target=\"_parent\"><img src=\"https://colab.research.google.com/assets/colab-badge.svg\" alt=\"Open In Colab\"/></a>"
      ]
    },
    {
      "cell_type": "markdown",
      "metadata": {
        "id": "6adPMSezL07-",
        "colab_type": "text"
      },
      "source": [
        "# Mount Google Drive"
      ]
    },
    {
      "cell_type": "code",
      "metadata": {
        "id": "5L245w8wLzor",
        "colab_type": "code",
        "colab": {
          "base_uri": "https://localhost:8080/",
          "height": 125
        },
        "outputId": "97d9d5fe-f345-46e1-8fee-21df2e17ef97"
      },
      "source": [
        "from google.colab import drive\n",
        "drive.mount('/content/drive')"
      ],
      "execution_count": 1,
      "outputs": [
        {
          "output_type": "stream",
          "text": [
            "Go to this URL in a browser: https://accounts.google.com/o/oauth2/auth?client_id=947318989803-6bn6qk8qdgf4n4g3pfee6491hc0brc4i.apps.googleusercontent.com&redirect_uri=urn%3aietf%3awg%3aoauth%3a2.0%3aoob&response_type=code&scope=email%20https%3a%2f%2fwww.googleapis.com%2fauth%2fdocs.test%20https%3a%2f%2fwww.googleapis.com%2fauth%2fdrive%20https%3a%2f%2fwww.googleapis.com%2fauth%2fdrive.photos.readonly%20https%3a%2f%2fwww.googleapis.com%2fauth%2fpeopleapi.readonly\n",
            "\n",
            "Enter your authorization code:\n",
            "··········\n",
            "Mounted at /content/drive\n"
          ],
          "name": "stdout"
        }
      ]
    },
    {
      "cell_type": "code",
      "metadata": {
        "id": "hNozpViEdKae",
        "colab_type": "code",
        "colab": {}
      },
      "source": [
        "import numpy as np\n",
        "import torch"
      ],
      "execution_count": 0,
      "outputs": []
    },
    {
      "cell_type": "code",
      "metadata": {
        "id": "SViOOCRheZzi",
        "colab_type": "code",
        "outputId": "d67cb22d-15e1-4784-d2a6-2407e9574c93",
        "colab": {
          "base_uri": "https://localhost:8080/",
          "height": 52
        }
      },
      "source": [
        "a = np.array(1)\n",
        "b = torch.tensor(1)\n",
        "\n",
        "print(a)\n",
        "print(b)"
      ],
      "execution_count": 3,
      "outputs": [
        {
          "output_type": "stream",
          "text": [
            "1\n",
            "tensor(1)\n"
          ],
          "name": "stdout"
        }
      ]
    },
    {
      "cell_type": "code",
      "metadata": {
        "id": "iNftUAlyhNE9",
        "colab_type": "code",
        "outputId": "8f2ac18e-3d04-4295-b790-be334e380380",
        "colab": {
          "base_uri": "https://localhost:8080/",
          "height": 35
        }
      },
      "source": [
        "type(a), type(b)"
      ],
      "execution_count": 4,
      "outputs": [
        {
          "output_type": "execute_result",
          "data": {
            "text/plain": [
              "(numpy.ndarray, torch.Tensor)"
            ]
          },
          "metadata": {
            "tags": []
          },
          "execution_count": 4
        }
      ]
    },
    {
      "cell_type": "markdown",
      "metadata": {
        "id": "bqLgwgp2iSdn",
        "colab_type": "text"
      },
      "source": [
        "# Mathematical Operations"
      ]
    },
    {
      "cell_type": "code",
      "metadata": {
        "id": "S2irJe1ghNyG",
        "colab_type": "code",
        "outputId": "74d963ff-72da-4a59-d49d-f83e6e455507",
        "colab": {
          "base_uri": "https://localhost:8080/",
          "height": 35
        }
      },
      "source": [
        "a = torch.tensor(4)\n",
        "b = torch.tensor(2)\n",
        "\n",
        "print(a, b)"
      ],
      "execution_count": 5,
      "outputs": [
        {
          "output_type": "stream",
          "text": [
            "tensor(4) tensor(2)\n"
          ],
          "name": "stdout"
        }
      ]
    },
    {
      "cell_type": "code",
      "metadata": {
        "id": "QtQAwYykiapa",
        "colab_type": "code",
        "outputId": "cb71da8a-9abb-4581-c088-a78fb24f5907",
        "colab": {
          "base_uri": "https://localhost:8080/",
          "height": 87
        }
      },
      "source": [
        "print(a+b)\n",
        "print(a-b)\n",
        "print(a*b)\n",
        "print(a/b)"
      ],
      "execution_count": 6,
      "outputs": [
        {
          "output_type": "stream",
          "text": [
            "tensor(6)\n",
            "tensor(2)\n",
            "tensor(8)\n",
            "tensor(2)\n"
          ],
          "name": "stdout"
        }
      ]
    },
    {
      "cell_type": "markdown",
      "metadata": {
        "id": "CeKzetl0jAxG",
        "colab_type": "text"
      },
      "source": [
        "# Matrix Initialization"
      ]
    },
    {
      "cell_type": "code",
      "metadata": {
        "id": "6oZ5tCm4idNl",
        "colab_type": "code",
        "outputId": "a799c8d1-9a79-4dee-c2f7-9c2f8d2bcb28",
        "colab": {
          "base_uri": "https://localhost:8080/",
          "height": 87
        }
      },
      "source": [
        "a = torch.zeros(3, 3)\n",
        "print(a)\n",
        "print(a.shape)"
      ],
      "execution_count": 7,
      "outputs": [
        {
          "output_type": "stream",
          "text": [
            "tensor([[0., 0., 0.],\n",
            "        [0., 0., 0.],\n",
            "        [0., 0., 0.]])\n",
            "torch.Size([3, 3])\n"
          ],
          "name": "stdout"
        }
      ]
    },
    {
      "cell_type": "code",
      "metadata": {
        "id": "i_yKGM-SjNrJ",
        "colab_type": "code",
        "outputId": "bc5b5070-12b7-48a8-b17d-649ab3f8fb17",
        "colab": {
          "base_uri": "https://localhost:8080/",
          "height": 70
        }
      },
      "source": [
        "torch.manual_seed(42)\n",
        "a = torch.randn(3, 3)\n",
        "\n",
        "a"
      ],
      "execution_count": 8,
      "outputs": [
        {
          "output_type": "execute_result",
          "data": {
            "text/plain": [
              "tensor([[ 0.3367,  0.1288,  0.2345],\n",
              "        [ 0.2303, -1.1229, -0.1863],\n",
              "        [ 2.2082, -0.6380,  0.4617]])"
            ]
          },
          "metadata": {
            "tags": []
          },
          "execution_count": 8
        }
      ]
    },
    {
      "cell_type": "markdown",
      "metadata": {
        "id": "QfHozZ01kfta",
        "colab_type": "text"
      },
      "source": [
        "# Matrix Operations"
      ]
    },
    {
      "cell_type": "code",
      "metadata": {
        "id": "7QS2kltokTVr",
        "colab_type": "code",
        "outputId": "19a7fd02-4f41-46c4-e406-2b3cfe6c65a8",
        "colab": {
          "base_uri": "https://localhost:8080/",
          "height": 122
        }
      },
      "source": [
        "torch.manual_seed(42)\n",
        "a = torch.randn(3, 3)\n",
        "b = torch.randn(3, 3)\n",
        "\n",
        "print(a)\n",
        "print(b)"
      ],
      "execution_count": 9,
      "outputs": [
        {
          "output_type": "stream",
          "text": [
            "tensor([[ 0.3367,  0.1288,  0.2345],\n",
            "        [ 0.2303, -1.1229, -0.1863],\n",
            "        [ 2.2082, -0.6380,  0.4617]])\n",
            "tensor([[ 0.2674,  0.5349,  0.8094],\n",
            "        [ 1.1103, -1.6898, -0.9890],\n",
            "        [ 0.9580,  1.3221,  0.8172]])\n"
          ],
          "name": "stdout"
        }
      ]
    },
    {
      "cell_type": "code",
      "metadata": {
        "id": "kdopOgCvlIQv",
        "colab_type": "code",
        "outputId": "8355862a-6bc3-4f29-cc07-7f12ac7cd8fb",
        "colab": {
          "base_uri": "https://localhost:8080/",
          "height": 332
        }
      },
      "source": [
        "# matrix addition\n",
        "print(torch.add(a,b), '\\n')\n",
        "\n",
        "# matrix subtraction\n",
        "print(torch.sub(a,b), '\\n')\n",
        "\n",
        "# matrix multiplication (similar to dot product in numpy)\n",
        "print(torch.mm(a, b), '\\n')\n",
        "\n",
        "# matrix division\n",
        "print(torch.div(a, b))\n",
        "\n",
        "# matrix transpose\n",
        "print(torch.t(a))"
      ],
      "execution_count": 10,
      "outputs": [
        {
          "output_type": "stream",
          "text": [
            "tensor([[ 0.6040,  0.6637,  1.0438],\n",
            "        [ 1.3406, -2.8127, -1.1753],\n",
            "        [ 3.1662,  0.6841,  1.2788]]) \n",
            "\n",
            "tensor([[ 0.0693, -0.4061, -0.5749],\n",
            "        [-0.8800,  0.5669,  0.8026],\n",
            "        [ 1.2502, -1.9601, -0.3555]]) \n",
            "\n",
            "tensor([[ 0.4576,  0.2724,  0.3367],\n",
            "        [-1.3636,  1.7743,  1.1446],\n",
            "        [ 0.3243,  2.8696,  2.7954]]) \n",
            "\n",
            "tensor([[ 1.2594,  0.2408,  0.2897],\n",
            "        [ 0.2075,  0.6645,  0.1884],\n",
            "        [ 2.3051, -0.4826,  0.5649]])\n",
            "tensor([[ 0.3367,  0.2303,  2.2082],\n",
            "        [ 0.1288, -1.1229, -0.6380],\n",
            "        [ 0.2345, -0.1863,  0.4617]])\n"
          ],
          "name": "stdout"
        }
      ]
    },
    {
      "cell_type": "markdown",
      "metadata": {
        "id": "mPHFXR7cmxpB",
        "colab_type": "text"
      },
      "source": [
        "# Concatenating Tensors"
      ]
    },
    {
      "cell_type": "code",
      "metadata": {
        "id": "vF_sfGlBlUrR",
        "colab_type": "code",
        "outputId": "d3523e52-b1ad-4dcc-ab25-771949daca2a",
        "colab": {
          "base_uri": "https://localhost:8080/",
          "height": 105
        }
      },
      "source": [
        "a = torch.tensor([[1,2], [3,4]])\n",
        "b = torch.tensor([[5,6], [7,8]])\n",
        "\n",
        "print(a, '\\n')\n",
        "print(b)"
      ],
      "execution_count": 11,
      "outputs": [
        {
          "output_type": "stream",
          "text": [
            "tensor([[1, 2],\n",
            "        [3, 4]]) \n",
            "\n",
            "tensor([[5, 6],\n",
            "        [7, 8]])\n"
          ],
          "name": "stdout"
        }
      ]
    },
    {
      "cell_type": "code",
      "metadata": {
        "id": "Iq7gXPzYnDEQ",
        "colab_type": "code",
        "outputId": "7e503d84-17d7-4e6d-f3d1-9fa5e687d237",
        "colab": {
          "base_uri": "https://localhost:8080/",
          "height": 140
        }
      },
      "source": [
        "# concatenating vertically\n",
        "print(torch.cat((a, b)), '\\n')\n",
        "\n",
        "# concatenating horizontally\n",
        "print(torch.cat((a,b), dim=1))"
      ],
      "execution_count": 12,
      "outputs": [
        {
          "output_type": "stream",
          "text": [
            "tensor([[1, 2],\n",
            "        [3, 4],\n",
            "        [5, 6],\n",
            "        [7, 8]]) \n",
            "\n",
            "tensor([[1, 2, 5, 6],\n",
            "        [3, 4, 7, 8]])\n"
          ],
          "name": "stdout"
        }
      ]
    },
    {
      "cell_type": "markdown",
      "metadata": {
        "id": "kgMONq8knvD-",
        "colab_type": "text"
      },
      "source": [
        "# Reshaping Tensors"
      ]
    },
    {
      "cell_type": "code",
      "metadata": {
        "id": "Bi5cVpCFnPXN",
        "colab_type": "code",
        "outputId": "ca188386-553f-4c14-8632-6bda575b2d66",
        "colab": {
          "base_uri": "https://localhost:8080/",
          "height": 70
        }
      },
      "source": [
        "torch.manual_seed(42)\n",
        "a = torch.randn(2, 4)\n",
        "\n",
        "print(a)\n",
        "print(a.shape)"
      ],
      "execution_count": 13,
      "outputs": [
        {
          "output_type": "stream",
          "text": [
            "tensor([[ 0.3367,  0.1288,  0.2345,  0.2303],\n",
            "        [-1.1229, -0.1863,  2.2082, -0.6380]])\n",
            "torch.Size([2, 4])\n"
          ],
          "name": "stdout"
        }
      ]
    },
    {
      "cell_type": "code",
      "metadata": {
        "id": "6DhppIspn9yB",
        "colab_type": "code",
        "outputId": "69509ebb-3e9f-4250-fb80-0c732e821617",
        "colab": {
          "base_uri": "https://localhost:8080/",
          "height": 35
        }
      },
      "source": [
        "# reshaping tensor\n",
        "b = a.reshape(1,8)\n",
        "print(b)"
      ],
      "execution_count": 14,
      "outputs": [
        {
          "output_type": "stream",
          "text": [
            "tensor([[ 0.3367,  0.1288,  0.2345,  0.2303, -1.1229, -0.1863,  2.2082, -0.6380]])\n"
          ],
          "name": "stdout"
        }
      ]
    },
    {
      "cell_type": "code",
      "metadata": {
        "id": "EmW-LirooEiA",
        "colab_type": "code",
        "outputId": "2ece2969-32a9-42a3-d7e8-422f594f9854",
        "colab": {
          "base_uri": "https://localhost:8080/",
          "height": 87
        }
      },
      "source": [
        "a = np.array([[1,2], [3,4]])\n",
        "print(a)\n",
        "\n",
        "# converting the numpy array to tensor\n",
        "b = torch.from_numpy(a)\n",
        "print(b)"
      ],
      "execution_count": 15,
      "outputs": [
        {
          "output_type": "stream",
          "text": [
            "[[1 2]\n",
            " [3 4]]\n",
            "tensor([[1, 2],\n",
            "        [3, 4]])\n"
          ],
          "name": "stdout"
        }
      ]
    },
    {
      "cell_type": "markdown",
      "metadata": {
        "id": "stNAPanXsj7W",
        "colab_type": "text"
      },
      "source": [
        "Common PyTorch Modules\n",
        "===\n",
        "\n",
        "## Autograd Module\n",
        "- **PyTorch uses a technique called automatic differentiation.** It records all the operations that we are performing and replays it backward to compute gradients. This technique helps us to save time on each epoch as we are calculating the gradients on the forward pass itself.\n",
        "- Specifying `requires_grad` as `True` will make sure that the gradients are stored for this particular tensor whenever we perform some operation on it.\n",
        "- We perform the following operations on a:  \n",
        "b = a + 5  \n",
        "c = mean(b) = Σ(a+5) / 4  \n",
        "Now, the derivative of c w.r.t. a will be ¼ and hence the gradient matrix will be 0.25. "
      ]
    },
    {
      "cell_type": "code",
      "metadata": {
        "id": "iOX4GkIIoUod",
        "colab_type": "code",
        "outputId": "e3bde206-2ae9-451c-e785-77bee17dfb1d",
        "colab": {
          "base_uri": "https://localhost:8080/",
          "height": 52
        }
      },
      "source": [
        "# Initializing a tensor\n",
        "a = torch.ones(2,2,requires_grad=True)\n",
        "\n",
        "print(a)"
      ],
      "execution_count": 16,
      "outputs": [
        {
          "output_type": "stream",
          "text": [
            "tensor([[1., 1.],\n",
            "        [1., 1.]], requires_grad=True)\n"
          ],
          "name": "stdout"
        }
      ]
    },
    {
      "cell_type": "code",
      "metadata": {
        "id": "Azj8VLWCur_r",
        "colab_type": "code",
        "outputId": "ce62abbf-2e85-4c3d-b946-0666c2b660a9",
        "colab": {
          "base_uri": "https://localhost:8080/",
          "height": 52
        }
      },
      "source": [
        "# performing operations on tensor\n",
        "b = a+5\n",
        "c = b.mean()\n",
        "\n",
        "print(b, c)"
      ],
      "execution_count": 17,
      "outputs": [
        {
          "output_type": "stream",
          "text": [
            "tensor([[6., 6.],\n",
            "        [6., 6.]], grad_fn=<AddBackward0>) tensor(6., grad_fn=<MeanBackward0>)\n"
          ],
          "name": "stdout"
        }
      ]
    },
    {
      "cell_type": "code",
      "metadata": {
        "id": "B299BxBJu1Tr",
        "colab_type": "code",
        "outputId": "f47aaf63-8696-4e0b-8bc5-045ea393b120",
        "colab": {
          "base_uri": "https://localhost:8080/",
          "height": 52
        }
      },
      "source": [
        "# back propagating\n",
        "c.backward()\n",
        "\n",
        "# computing gradients\n",
        "print(a.grad)"
      ],
      "execution_count": 18,
      "outputs": [
        {
          "output_type": "stream",
          "text": [
            "tensor([[0.2500, 0.2500],\n",
            "        [0.2500, 0.2500]])\n"
          ],
          "name": "stdout"
        }
      ]
    },
    {
      "cell_type": "markdown",
      "metadata": {
        "id": "HJCdQv1e0ifv",
        "colab_type": "text"
      },
      "source": [
        "## Optim Module\n",
        "\n",
        "The Optim module in PyTorch has pre-written codes for most of the optimizers that are used while building a neural network.\n",
        "\n",
        "Most of the commonly used optimizers are supported in PyTorch and hence we do not have to write them from scratch. Some of them are:\n",
        "- SGD\n",
        "- Adam\n",
        "- Adadelta\n",
        "- Adagrad\n",
        "- AdamW\n",
        "- SparseAdam\n",
        "- Adamax\n",
        "- ASGD (Averaged Stochastic Gradient Descent)\n",
        "- RMSprop\n",
        "- Rprop (resilient backpropagation)\n",
        "\n"
      ]
    },
    {
      "cell_type": "code",
      "metadata": {
        "id": "pMZENiO0v24h",
        "colab_type": "code",
        "colab": {}
      },
      "source": [
        "# importing the optim module\n",
        "from torch import optim\n",
        "\n",
        "# adam\n",
        "## adam = optim.Adam(model.parameters(), lr=learning_rate)\n",
        "\n",
        "# sgd\n",
        "## SGD = optim.SGD(model.parameters(), lr=learning_rate)"
      ],
      "execution_count": 0,
      "outputs": []
    },
    {
      "cell_type": "markdown",
      "metadata": {
        "id": "CGzHYgBu1Q84",
        "colab_type": "text"
      },
      "source": [
        "## nn Module\n",
        "\n",
        "The autograd module in PyTorch helps us define computation graphs as we proceed in the model. But, just using the autograd module can be low-level when we are dealing with a complex neural network.\n",
        "\n",
        "In those cases, we can make use of the nn module. **This defines a set of functions, similar to the layers of a neural network, which takes the input from the previous state and produces an output.**"
      ]
    },
    {
      "cell_type": "markdown",
      "metadata": {
        "id": "B0111law3K7F",
        "colab_type": "text"
      },
      "source": [
        "Building a Neural Network from Scratch in PyTorch\n",
        "==="
      ]
    },
    {
      "cell_type": "code",
      "metadata": {
        "id": "fqke1i531PUS",
        "colab_type": "code",
        "outputId": "562931fe-3c10-4442-d029-1cfa89d4b3bb",
        "colab": {
          "base_uri": "https://localhost:8080/",
          "height": 140
        }
      },
      "source": [
        "#Input tensor\n",
        "X = torch.Tensor([[1,0,1,0],[1,0,1,1],[0,1,0,1]])\n",
        "\n",
        "#Output\n",
        "y = torch.Tensor([[1],[1],[0]])\n",
        "\n",
        "print(X, '\\n')\n",
        "print(y)"
      ],
      "execution_count": 20,
      "outputs": [
        {
          "output_type": "stream",
          "text": [
            "tensor([[1., 0., 1., 0.],\n",
            "        [1., 0., 1., 1.],\n",
            "        [0., 1., 0., 1.]]) \n",
            "\n",
            "tensor([[1.],\n",
            "        [1.],\n",
            "        [0.]])\n"
          ],
          "name": "stdout"
        }
      ]
    },
    {
      "cell_type": "markdown",
      "metadata": {
        "id": "7IGJgGm44G_I",
        "colab_type": "text"
      },
      "source": [
        "Next, we will define the sigmoid function which will act as the activation function and the derivative of the sigmoid function which will help us in the backpropagation step:"
      ]
    },
    {
      "cell_type": "code",
      "metadata": {
        "id": "c2_pYOFj3Twd",
        "colab_type": "code",
        "colab": {}
      },
      "source": [
        "# Sigmoid function\n",
        "def sigmoid(x):\n",
        "  return 1 / (1 + torch.exp(-x))\n",
        "\n",
        "# Derivative of sigmoid function\n",
        "def derivatives_sigmoid(x):\n",
        "  return x * (1-x)"
      ],
      "execution_count": 0,
      "outputs": []
    },
    {
      "cell_type": "markdown",
      "metadata": {
        "id": "wW_uyxSq4I2L",
        "colab_type": "text"
      },
      "source": [
        "Next, initialize the parameters for our model including the number of epochs, learning rate, weights, biases, etc."
      ]
    },
    {
      "cell_type": "code",
      "metadata": {
        "id": "vu-cC5Tn35FX",
        "colab_type": "code",
        "colab": {}
      },
      "source": [
        "# variable initialization\n",
        "epoch = 7000  # setting training iterations\n",
        "lr = 0.01  # setting learning rate\n",
        "inputlayer_neurons = X.shape[1]  # No of features in dataset\n",
        "hiddenlayer_neurons = 3\n",
        "output_neurons = 1\n",
        "\n",
        "#weight and bias initialization\n",
        "wh = torch.randn(inputlayer_neurons, hiddenlayer_neurons).type(torch.FloatTensor)\n",
        "bh = torch.randn(1, hiddenlayer_neurons).type(torch.FloatTensor)\n",
        "wout = torch.randn(hiddenlayer_neurons, output_neurons)\n",
        "bout = torch.randn(1, output_neurons)"
      ],
      "execution_count": 0,
      "outputs": []
    },
    {
      "cell_type": "markdown",
      "metadata": {
        "id": "fA50JB5x6JrX",
        "colab_type": "text"
      },
      "source": [
        "Finally, we will create a neural network. I am taking a simple model here just to make things clear. There is a single hidden layer and an input and an output layer in the model:"
      ]
    },
    {
      "cell_type": "code",
      "metadata": {
        "id": "DMseZur_6C9x",
        "colab_type": "code",
        "colab": {}
      },
      "source": [
        "for i in range(epoch):\n",
        "  # Forward Propagation\n",
        "  hidden_layer_input1 = torch.mm(X, wh)\n",
        "  hidden_layer_input = hidden_layer_input1 + bh\n",
        "  hidden_layer_activations = sigmoid(hidden_layer_input)\n",
        "\n",
        "  output_layer_input1 = torch.mm(hidden_layer_activations, wout)\n",
        "  output_layer_input = output_layer_input1 + bout\n",
        "  output = sigmoid(output_layer_input)\n",
        "\n",
        "  # Backpropagation\n",
        "  E = y - output\n",
        "  slope_output_layer = derivatives_sigmoid(output)\n",
        "  slope_hidden_layer = derivatives_sigmoid(hidden_layer_activations)\n",
        "  \n",
        "  d_output = E * slope_output_layer\n",
        "\n",
        "  error_at_hidden_layer = torch.mm(d_output, wout.t())\n",
        "  d_hidden_layer = error_at_hidden_layer * slope_hidden_layer\n",
        "\n",
        "  wout += torch.mm(hidden_layer_activations.t(), d_output) * lr\n",
        "  bout += d_output.sum() * lr\n",
        "  wh += torch.mm(X.t(), d_hidden_layer) * lr\n",
        "  bh += d_output.sum() * lr\n",
        "\n"
      ],
      "execution_count": 0,
      "outputs": []
    },
    {
      "cell_type": "code",
      "metadata": {
        "id": "HpKE345iuIWn",
        "colab_type": "code",
        "outputId": "359518a3-b2dd-4954-86f6-a123729a365f",
        "colab": {
          "base_uri": "https://localhost:8080/",
          "height": 175
        }
      },
      "source": [
        "print('actual :\\n', y, '\\n')\n",
        "print('predicted :\\n', output)"
      ],
      "execution_count": 24,
      "outputs": [
        {
          "output_type": "stream",
          "text": [
            "actual :\n",
            " tensor([[1.],\n",
            "        [1.],\n",
            "        [0.]]) \n",
            "\n",
            "predicted :\n",
            " tensor([[0.9157],\n",
            "        [0.8788],\n",
            "        [0.1715]])\n"
          ],
          "name": "stdout"
        }
      ]
    },
    {
      "cell_type": "markdown",
      "metadata": {
        "id": "8DHLQR8XubOB",
        "colab_type": "text"
      },
      "source": [
        "#Solving an Image Classification Problem using PyTorch\n",
        "\n",
        "Our task is to identify the type of apparel by looking at a variety of apparel images. It’s a classic [image classification](http://www.analyticsvidhya.com/blog/2019/01/build-image-classification-model-10-minutes/?utm_source=blog&utm_medium=introduction-to-pytorch-from-scratch) problem using computer vision. This dataset, taken from the [DataHack Platform](https://datahack.analyticsvidhya.com/?utm_source=blog&utm_medium=introduction-to-pytorch-from-scratch), can be downloaded [here](https://datahack.analyticsvidhya.com/contest/practice-problem-identify-the-apparels/?utm_source=blog&utm_medium=introduction-to-pytorch-from-scratch).\n",
        "\n",
        "\n",
        "Problem Statement\n",
        "---\n",
        "\n",
        "We have total 70,000 images (28 x 28), out of which 60,000 are part of train images with the label of the type of apparel (total classes: 10) and rest 10,000 images are unlabelled (known as test images).The task is to identify the type of apparel for all test images. Given below is the code description for each of the apparel class/label.\n",
        " \n",
        "Label\tDescription\n",
        "--------\n",
        "0\tT-shirt/top  \n",
        "1\tTrouser  \n",
        "2\tPullover  \n",
        "3\tDress  \n",
        "4\tCoat  \n",
        "5\tSandal  \n",
        "6\tShirt  \n",
        "7\tSneaker  \n",
        "8\tBag  \n",
        "9\tAnkle boot  "
      ]
    },
    {
      "cell_type": "markdown",
      "metadata": {
        "id": "9kwvGIjM8LZf",
        "colab_type": "text"
      },
      "source": [
        "# Extracting Data from zip files"
      ]
    },
    {
      "cell_type": "code",
      "metadata": {
        "id": "O-hEL-xeuMed",
        "colab_type": "code",
        "colab": {}
      },
      "source": [
        "import zipfile\n",
        "with zipfile.ZipFile(\"/content/drive/My Drive/ML/data/Identify the Apparels - AnalyticsVidhya/test_ScVgIM0.zip\",\"r\") as zip_ref:\n",
        "    zip_ref.extractall(\"/content/drive/My Drive/ML/data/Identify the Apparels - AnalyticsVidhya/test_ScVgIM0\")"
      ],
      "execution_count": 0,
      "outputs": []
    },
    {
      "cell_type": "code",
      "metadata": {
        "id": "HdN8PD4X6tAM",
        "colab_type": "code",
        "colab": {}
      },
      "source": [
        "import zipfile\n",
        "with zipfile.ZipFile(\"/content/drive/My Drive/ML/data/Identify the Apparels - AnalyticsVidhya/train_LbELtWX.zip\",\"r\") as zip_ref:\n",
        "    zip_ref.extractall(\"/content/drive/My Drive/ML/data/Identify the Apparels - AnalyticsVidhya/train_LbELtWX\")"
      ],
      "execution_count": 0,
      "outputs": []
    },
    {
      "cell_type": "code",
      "metadata": {
        "id": "TvpI110_8V3T",
        "colab_type": "code",
        "colab": {}
      },
      "source": [
        "# random number generator\n",
        "seed = 128\n",
        "rng = np.random.RandomState(seed)"
      ],
      "execution_count": 0,
      "outputs": []
    },
    {
      "cell_type": "markdown",
      "metadata": {
        "id": "KDnXiRt19Twz",
        "colab_type": "text"
      },
      "source": [
        "## Loading data"
      ]
    },
    {
      "cell_type": "code",
      "metadata": {
        "id": "sxgonTMF9Xhn",
        "colab_type": "code",
        "colab": {}
      },
      "source": [
        "import pandas as pd\n",
        "import numpy as np\n",
        "from skimage.io import imread\n",
        "import matplotlib.pyplot as plt\n",
        "%matplotlib inline\n",
        "\n",
        "from sklearn.model_selection import train_test_split\n",
        "from sklearn.metrics import accuracy_score"
      ],
      "execution_count": 0,
      "outputs": []
    },
    {
      "cell_type": "markdown",
      "metadata": {
        "id": "Q1tUTQGk-By6",
        "colab_type": "text"
      },
      "source": [
        "Next, read the .csv file that we downloaded from the competition page."
      ]
    },
    {
      "cell_type": "code",
      "metadata": {
        "id": "_NVMn49V-DOJ",
        "colab_type": "code",
        "outputId": "348d62cc-4f08-4c0d-9506-e6e6a23fd2d8",
        "colab": {
          "base_uri": "https://localhost:8080/",
          "height": 191
        }
      },
      "source": [
        "# loading dataset\n",
        "train = pd.read_csv(\"/content/drive/My Drive/ML/data/Identify the Apparels - AnalyticsVidhya/train_LbELtWX/train.csv\")\n",
        "test = pd.read_csv(\"/content/drive/My Drive/ML/data/Identify the Apparels - AnalyticsVidhya/test_ScVgIM0/test.csv\")\n",
        "\n",
        "sample_submission = pd.read_csv(\"/content/drive/My Drive/ML/data/Identify the Apparels - AnalyticsVidhya/sample_submission_I5njJSF.csv\")\n",
        "\n",
        "train.head()"
      ],
      "execution_count": 29,
      "outputs": [
        {
          "output_type": "execute_result",
          "data": {
            "text/html": [
              "<div>\n",
              "<style scoped>\n",
              "    .dataframe tbody tr th:only-of-type {\n",
              "        vertical-align: middle;\n",
              "    }\n",
              "\n",
              "    .dataframe tbody tr th {\n",
              "        vertical-align: top;\n",
              "    }\n",
              "\n",
              "    .dataframe thead th {\n",
              "        text-align: right;\n",
              "    }\n",
              "</style>\n",
              "<table border=\"1\" class=\"dataframe\">\n",
              "  <thead>\n",
              "    <tr style=\"text-align: right;\">\n",
              "      <th></th>\n",
              "      <th>id</th>\n",
              "      <th>label</th>\n",
              "    </tr>\n",
              "  </thead>\n",
              "  <tbody>\n",
              "    <tr>\n",
              "      <th>0</th>\n",
              "      <td>1</td>\n",
              "      <td>9</td>\n",
              "    </tr>\n",
              "    <tr>\n",
              "      <th>1</th>\n",
              "      <td>2</td>\n",
              "      <td>0</td>\n",
              "    </tr>\n",
              "    <tr>\n",
              "      <th>2</th>\n",
              "      <td>3</td>\n",
              "      <td>0</td>\n",
              "    </tr>\n",
              "    <tr>\n",
              "      <th>3</th>\n",
              "      <td>4</td>\n",
              "      <td>3</td>\n",
              "    </tr>\n",
              "    <tr>\n",
              "      <th>4</th>\n",
              "      <td>5</td>\n",
              "      <td>0</td>\n",
              "    </tr>\n",
              "  </tbody>\n",
              "</table>\n",
              "</div>"
            ],
            "text/plain": [
              "   id  label\n",
              "0   1      9\n",
              "1   2      0\n",
              "2   3      0\n",
              "3   4      3\n",
              "4   5      0"
            ]
          },
          "metadata": {
            "tags": []
          },
          "execution_count": 29
        }
      ]
    },
    {
      "cell_type": "markdown",
      "metadata": {
        "id": "aHqP47ZR9An6",
        "colab_type": "text"
      },
      "source": [
        "## Plot an image"
      ]
    },
    {
      "cell_type": "code",
      "metadata": {
        "id": "_YGfjNfs_d-P",
        "colab_type": "code",
        "outputId": "504e859b-54cc-42c9-ccae-e434ba082d77",
        "colab": {
          "base_uri": "https://localhost:8080/",
          "height": 337
        }
      },
      "source": [
        "# print an image\n",
        "img_name = rng.choice(train['id'])\n",
        "\n",
        "filepath = '/content/drive/My Drive/ML/data/Identify the Apparels - AnalyticsVidhya/train_LbELtWX/train/' + str(img_name) + '.png'\n",
        "\n",
        "img = imread(filepath, as_gray = True)\n",
        "img = img.astype('float32')\n",
        "\n",
        "plt.figure(figsize = (5,5))\n",
        "plt.imshow(img, cmap='gray')"
      ],
      "execution_count": 30,
      "outputs": [
        {
          "output_type": "execute_result",
          "data": {
            "text/plain": [
              "<matplotlib.image.AxesImage at 0x7f2c4c57c208>"
            ]
          },
          "metadata": {
            "tags": []
          },
          "execution_count": 30
        },
        {
          "output_type": "display_data",
          "data": {
            "image/png": "[encoded data removed]",
            "text/plain": [
              "<Figure size 360x360 with 1 Axes>"
            ]
          },
          "metadata": {
            "tags": []
          }
        }
      ]
    },
    {
      "cell_type": "markdown",
      "metadata": {
        "id": "l2xC05kV4JtU",
        "colab_type": "text"
      },
      "source": [
        "# Load Training Images"
      ]
    },
    {
      "cell_type": "code",
      "metadata": {
        "id": "THxhifoDbOaB",
        "colab_type": "code",
        "colab": {
          "base_uri": "https://localhost:8080/",
          "height": 35
        },
        "outputId": "5d3f4c5f-b27f-4e30-f25f-22de86794f07"
      },
      "source": [
        "# load training images\n",
        "train_img = []\n",
        "\n",
        "for img_name in train['id']:\n",
        "    img_path = '/content/drive/My Drive/ML/data/Identify the Apparels - AnalyticsVidhya/train_LbELtWX/train/' + str(img_name) + '.png'\n",
        "    \n",
        "    img = imread(img_path, as_gray = True)\n",
        "    img = img.astype('float32')\n",
        "    \n",
        "    train_img.append(img)\n",
        "    \n",
        "train_x = np.array(train_img)\n",
        "train_x.shape"
      ],
      "execution_count": 31,
      "outputs": [
        {
          "output_type": "execute_result",
          "data": {
            "text/plain": [
              "(60000, 28, 28)"
            ]
          },
          "metadata": {
            "tags": []
          },
          "execution_count": 31
        }
      ]
    },
    {
      "cell_type": "markdown",
      "metadata": {
        "id": "9S1mqqHA4eFE",
        "colab_type": "text"
      },
      "source": [
        "Flattening 2-dimensional images into a single dimension"
      ]
    },
    {
      "cell_type": "code",
      "metadata": {
        "id": "bUz2jyGIVTzq",
        "colab_type": "code",
        "colab": {
          "base_uri": "https://localhost:8080/",
          "height": 35
        },
        "outputId": "d6d0871c-6f55-4047-de78-f2ab28f2e5f8"
      },
      "source": [
        "train_x = train_x / train_x.max()\n",
        "train_x = train_x.reshape(-1, 28 * 28).astype('float32')\n",
        "\n",
        "train_x.shape"
      ],
      "execution_count": 32,
      "outputs": [
        {
          "output_type": "execute_result",
          "data": {
            "text/plain": [
              "(60000, 784)"
            ]
          },
          "metadata": {
            "tags": []
          },
          "execution_count": 32
        }
      ]
    },
    {
      "cell_type": "markdown",
      "metadata": {
        "id": "jGYE37lK4hSb",
        "colab_type": "text"
      },
      "source": [
        "Creating target for the training set"
      ]
    },
    {
      "cell_type": "code",
      "metadata": {
        "id": "fa2XWAQe4kQ6",
        "colab_type": "code",
        "colab": {}
      },
      "source": [
        "train_y = train['label'].values"
      ],
      "execution_count": 0,
      "outputs": []
    },
    {
      "cell_type": "markdown",
      "metadata": {
        "id": "b31MAruQ4otr",
        "colab_type": "text"
      },
      "source": [
        "# Training the Model"
      ]
    },
    {
      "cell_type": "code",
      "metadata": {
        "id": "gqg4VFZb4mV2",
        "colab_type": "code",
        "colab": {
          "base_uri": "https://localhost:8080/",
          "height": 35
        },
        "outputId": "5f2cce75-da18-48cd-c3fd-7a755670b5f5"
      },
      "source": [
        "# create the validation set\n",
        "train_x, val_x, train_y, val_y = train_test_split(train_x, train_y, test_size = 0.1, stratify = train_y)\n",
        "\n",
        "(train_x.shape, train_y.shape), (val_x.shape, val_y.shape)"
      ],
      "execution_count": 34,
      "outputs": [
        {
          "output_type": "execute_result",
          "data": {
            "text/plain": [
              "(((54000, 784), (54000,)), ((6000, 784), (6000,)))"
            ]
          },
          "metadata": {
            "tags": []
          },
          "execution_count": 34
        }
      ]
    },
    {
      "cell_type": "code",
      "metadata": {
        "id": "PDvM6iuv4vnX",
        "colab_type": "code",
        "colab": {}
      },
      "source": [
        "import torch\n",
        "from torch.autograd import Variable\n",
        "from torch.nn import Linear, ReLU, CrossEntropyLoss, Sequential\n",
        "from torch.optim import Adam"
      ],
      "execution_count": 0,
      "outputs": []
    },
    {
      "cell_type": "code",
      "metadata": {
        "id": "Q99nJT2A4xxo",
        "colab_type": "code",
        "colab": {}
      },
      "source": [
        "# Define the model parameters\n",
        "\n",
        "# number of neurons in each layer\n",
        "input_num_units = 28*28\n",
        "hidden_num_units = 500\n",
        "output_num_units = 10\n",
        "\n",
        "# set remaining variables\n",
        "epochs = 20\n",
        "learning_rate = 0.0005"
      ],
      "execution_count": 0,
      "outputs": []
    },
    {
      "cell_type": "code",
      "metadata": {
        "id": "tJSJbeON42Pq",
        "colab_type": "code",
        "colab": {}
      },
      "source": [
        "# Define the model\n",
        "model = Sequential(Linear(input_num_units, hidden_num_units),\n",
        "                   ReLU(),\n",
        "                   Linear(hidden_num_units, output_num_units)\n",
        "                  )\n",
        "\n",
        "# Loss function\n",
        "loss_fn = CrossEntropyLoss()\n",
        "\n",
        "\n",
        "# Define optimization aloorithm\n",
        "optimizer = Adam(model.parameters(), lr=learning_rate)"
      ],
      "execution_count": 0,
      "outputs": []
    },
    {
      "cell_type": "code",
      "metadata": {
        "id": "mCUCvv_u47FI",
        "colab_type": "code",
        "colab": {
          "base_uri": "https://localhost:8080/",
          "height": 192
        },
        "outputId": "413ca939-8437-445b-85d3-1effc6487c0a"
      },
      "source": [
        "# training the model\n",
        "\n",
        "train_losses = []\n",
        "val_losses = []\n",
        "\n",
        "for epoch in range(epochs):\n",
        "    avg_cost = 0\n",
        "    \n",
        "    x, y = Variable(torch.from_numpy(train_x)), Variable(torch.from_numpy(train_y), requires_grad = False)\n",
        "    x_val, y_val = Variable(torch.from_numpy(val_x)), Variable(torch.from_numpy(val_y), requires_grad = False)\n",
        "    \n",
        "    pred = model(x)\n",
        "    pred_val = model(x_val)\n",
        "    \n",
        "    # get loss\n",
        "    loss = loss_fn(pred, y)\n",
        "    loss_val = loss_fn(pred_val, y_val)\n",
        "    \n",
        "    train_losses.append(loss)\n",
        "    val_losses.append(loss_val)\n",
        "    \n",
        "    # perform backpropagation\n",
        "    loss.backward()\n",
        "    optimizer.step()\n",
        "    avg_cost = avg_cost + loss.data\n",
        "    \n",
        "    if(epoch%2 != 0):\n",
        "        print(epoch+1, avg_cost)\n",
        "    "
      ],
      "execution_count": 38,
      "outputs": [
        {
          "output_type": "stream",
          "text": [
            "2 tensor(2.1758)\n",
            "4 tensor(1.9793)\n",
            "6 tensor(1.8080)\n",
            "8 tensor(1.6365)\n",
            "10 tensor(1.4775)\n",
            "12 tensor(1.3422)\n",
            "14 tensor(1.2271)\n",
            "16 tensor(1.1246)\n",
            "18 tensor(1.0398)\n",
            "20 tensor(0.9902)\n"
          ],
          "name": "stdout"
        }
      ]
    },
    {
      "cell_type": "markdown",
      "metadata": {
        "id": "moQ6aUNU5AF9",
        "colab_type": "text"
      },
      "source": [
        "### Get training accuracy"
      ]
    },
    {
      "cell_type": "code",
      "metadata": {
        "id": "HxJEYrY15Auq",
        "colab_type": "code",
        "colab": {
          "base_uri": "https://localhost:8080/",
          "height": 35
        },
        "outputId": "a3af7b76-0e67-4f73-c291-74f8ac11b74f"
      },
      "source": [
        "x, y = Variable(torch.from_numpy(train_x)), Variable(torch.from_numpy(train_y), requires_grad = False)\n",
        "pred = model(x)\n",
        "\n",
        "final_pred = np.argmax(pred.data.numpy(), axis=1)\n",
        "\n",
        "acc_train = accuracy_score(train_y, final_pred)\n",
        "\n",
        "print(acc_train)"
      ],
      "execution_count": 39,
      "outputs": [
        {
          "output_type": "stream",
          "text": [
            "0.6516111111111111\n"
          ],
          "name": "stdout"
        }
      ]
    },
    {
      "cell_type": "markdown",
      "metadata": {
        "id": "VArhY-IB5Ft2",
        "colab_type": "text"
      },
      "source": [
        "### Get Validation accuracy"
      ]
    },
    {
      "cell_type": "code",
      "metadata": {
        "id": "5wzhyCBK5DDu",
        "colab_type": "code",
        "colab": {
          "base_uri": "https://localhost:8080/",
          "height": 35
        },
        "outputId": "0b58bdbc-3aad-4c4c-b2ab-7e7280fef727"
      },
      "source": [
        "x, y = Variable(torch.from_numpy(val_x)), Variable(torch.from_numpy(val_y), requires_grad = False)\n",
        "pred = model(x)\n",
        "\n",
        "final_pred = np.argmax(pred.data.numpy(), axis=1)\n",
        "\n",
        "acc_val = accuracy_score(val_y, final_pred)\n",
        "\n",
        "print(acc_val)"
      ],
      "execution_count": 40,
      "outputs": [
        {
          "output_type": "stream",
          "text": [
            "0.6478333333333334\n"
          ],
          "name": "stdout"
        }
      ]
    },
    {
      "cell_type": "markdown",
      "metadata": {
        "id": "6N3FiRQ05SD0",
        "colab_type": "text"
      },
      "source": [
        "You can try to increase the number of hidden layers or play with other model parameters like the optimizer function, the number of hidden units, etc. and try to improve the performance further."
      ]
    },
    {
      "cell_type": "markdown",
      "metadata": {
        "id": "AA9X5yWu5VHg",
        "colab_type": "text"
      },
      "source": [
        "# Getting predictions"
      ]
    },
    {
      "cell_type": "code",
      "metadata": {
        "id": "xFLmH9cv5P83",
        "colab_type": "code",
        "colab": {
          "base_uri": "https://localhost:8080/",
          "height": 35
        },
        "outputId": "5f39179c-fd6a-4c20-d618-908f3f59d385"
      },
      "source": [
        "# load test images\n",
        "\n",
        "test_img = []\n",
        "\n",
        "for img_name in test['id']:\n",
        "    img_path = '/content/drive/My Drive/ML/data/Identify the Apparels - AnalyticsVidhya/test_ScVgIM0/test/' + str(img_name) + '.png'\n",
        "    \n",
        "    img = imread(img_path, as_gray=True)\n",
        "    img = img.astype('float32')\n",
        "    \n",
        "    test_img.append(img)\n",
        "    \n",
        "test_x = np.array(test_img)\n",
        "test_x.shape"
      ],
      "execution_count": 42,
      "outputs": [
        {
          "output_type": "execute_result",
          "data": {
            "text/plain": [
              "(10000, 28, 28)"
            ]
          },
          "metadata": {
            "tags": []
          },
          "execution_count": 42
        }
      ]
    },
    {
      "cell_type": "code",
      "metadata": {
        "id": "TR7CmQ0z5MiB",
        "colab_type": "code",
        "colab": {
          "base_uri": "https://localhost:8080/",
          "height": 35
        },
        "outputId": "f170384c-6d5b-427d-d91a-ab6a0e4573ed"
      },
      "source": [
        "# converting the images to 1-D\n",
        "test_x = test_x / train_x.max()\n",
        "\n",
        "test_x = test_x.reshape(-1, 28 * 28).astype('float32')\n",
        "\n",
        "test_x.shape"
      ],
      "execution_count": 43,
      "outputs": [
        {
          "output_type": "execute_result",
          "data": {
            "text/plain": [
              "(10000, 784)"
            ]
          },
          "metadata": {
            "tags": []
          },
          "execution_count": 43
        }
      ]
    },
    {
      "cell_type": "code",
      "metadata": {
        "id": "hOKARxsF5avX",
        "colab_type": "code",
        "colab": {}
      },
      "source": [
        "# getting the prediction for test images\n",
        "pred = np.argmax(model(torch.from_numpy(test_x)).data.numpy(), axis=1)"
      ],
      "execution_count": 0,
      "outputs": []
    },
    {
      "cell_type": "code",
      "metadata": {
        "id": "d9gGiFbh5dUr",
        "colab_type": "code",
        "colab": {
          "base_uri": "https://localhost:8080/",
          "height": 191
        },
        "outputId": "180b7db5-2a2b-4f2f-919b-10bf2ebf15a6"
      },
      "source": [
        "sample_submission.head()"
      ],
      "execution_count": 45,
      "outputs": [
        {
          "output_type": "execute_result",
          "data": {
            "text/html": [
              "<div>\n",
              "<style scoped>\n",
              "    .dataframe tbody tr th:only-of-type {\n",
              "        vertical-align: middle;\n",
              "    }\n",
              "\n",
              "    .dataframe tbody tr th {\n",
              "        vertical-align: top;\n",
              "    }\n",
              "\n",
              "    .dataframe thead th {\n",
              "        text-align: right;\n",
              "    }\n",
              "</style>\n",
              "<table border=\"1\" class=\"dataframe\">\n",
              "  <thead>\n",
              "    <tr style=\"text-align: right;\">\n",
              "      <th></th>\n",
              "      <th>id</th>\n",
              "      <th>label</th>\n",
              "    </tr>\n",
              "  </thead>\n",
              "  <tbody>\n",
              "    <tr>\n",
              "      <th>0</th>\n",
              "      <td>60001</td>\n",
              "      <td>0</td>\n",
              "    </tr>\n",
              "    <tr>\n",
              "      <th>1</th>\n",
              "      <td>60002</td>\n",
              "      <td>0</td>\n",
              "    </tr>\n",
              "    <tr>\n",
              "      <th>2</th>\n",
              "      <td>60003</td>\n",
              "      <td>0</td>\n",
              "    </tr>\n",
              "    <tr>\n",
              "      <th>3</th>\n",
              "      <td>60004</td>\n",
              "      <td>0</td>\n",
              "    </tr>\n",
              "    <tr>\n",
              "      <th>4</th>\n",
              "      <td>60005</td>\n",
              "      <td>0</td>\n",
              "    </tr>\n",
              "  </tbody>\n",
              "</table>\n",
              "</div>"
            ],
            "text/plain": [
              "      id  label\n",
              "0  60001      0\n",
              "1  60002      0\n",
              "2  60003      0\n",
              "3  60004      0\n",
              "4  60005      0"
            ]
          },
          "metadata": {
            "tags": []
          },
          "execution_count": 45
        }
      ]
    },
    {
      "cell_type": "markdown",
      "metadata": {
        "id": "lX3GQT7q5hM2",
        "colab_type": "text"
      },
      "source": [
        "Replace these labels with the predictions that we got from the model for test images:"
      ]
    },
    {
      "cell_type": "code",
      "metadata": {
        "id": "beGxWMGP5e9j",
        "colab_type": "code",
        "colab": {
          "base_uri": "https://localhost:8080/",
          "height": 191
        },
        "outputId": "5ea05ee2-7be3-4bdf-dfbc-2b3b2da852ff"
      },
      "source": [
        "# replacing the label with prediction\n",
        "sample_submission['label'] = pred\n",
        "\n",
        "sample_submission.head()"
      ],
      "execution_count": 46,
      "outputs": [
        {
          "output_type": "execute_result",
          "data": {
            "text/html": [
              "<div>\n",
              "<style scoped>\n",
              "    .dataframe tbody tr th:only-of-type {\n",
              "        vertical-align: middle;\n",
              "    }\n",
              "\n",
              "    .dataframe tbody tr th {\n",
              "        vertical-align: top;\n",
              "    }\n",
              "\n",
              "    .dataframe thead th {\n",
              "        text-align: right;\n",
              "    }\n",
              "</style>\n",
              "<table border=\"1\" class=\"dataframe\">\n",
              "  <thead>\n",
              "    <tr style=\"text-align: right;\">\n",
              "      <th></th>\n",
              "      <th>id</th>\n",
              "      <th>label</th>\n",
              "    </tr>\n",
              "  </thead>\n",
              "  <tbody>\n",
              "    <tr>\n",
              "      <th>0</th>\n",
              "      <td>60001</td>\n",
              "      <td>9</td>\n",
              "    </tr>\n",
              "    <tr>\n",
              "      <th>1</th>\n",
              "      <td>60002</td>\n",
              "      <td>2</td>\n",
              "    </tr>\n",
              "    <tr>\n",
              "      <th>2</th>\n",
              "      <td>60003</td>\n",
              "      <td>1</td>\n",
              "    </tr>\n",
              "    <tr>\n",
              "      <th>3</th>\n",
              "      <td>60004</td>\n",
              "      <td>1</td>\n",
              "    </tr>\n",
              "    <tr>\n",
              "      <th>4</th>\n",
              "      <td>60005</td>\n",
              "      <td>4</td>\n",
              "    </tr>\n",
              "  </tbody>\n",
              "</table>\n",
              "</div>"
            ],
            "text/plain": [
              "      id  label\n",
              "0  60001      9\n",
              "1  60002      2\n",
              "2  60003      1\n",
              "3  60004      1\n",
              "4  60005      4"
            ]
          },
          "metadata": {
            "tags": []
          },
          "execution_count": 46
        }
      ]
    },
    {
      "cell_type": "code",
      "metadata": {
        "id": "1EsT_BMP5kUD",
        "colab_type": "code",
        "colab": {}
      },
      "source": [
        "# saving the file\n",
        "sample_submission.to_csv('/content/drive/My Drive/ML/data/Identify the Apparels - AnalyticsVidhya/submission.csv', index=False)"
      ],
      "execution_count": 0,
      "outputs": []
    },
    {
      "cell_type": "code",
      "metadata": {
        "id": "uyvjvq0L6_ad",
        "colab_type": "code",
        "colab": {}
      },
      "source": [
        ""
      ],
      "execution_count": 0,
      "outputs": []
    }
  ]
}