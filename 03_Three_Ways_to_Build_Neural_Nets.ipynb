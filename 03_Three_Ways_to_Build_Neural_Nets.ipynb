{
 "cells": [
  {
   "cell_type": "markdown",
   "metadata": {},
   "source": [
    "[Three Ways to Build a Neural Network in PyTorch](https://towardsdatascience.com/three-ways-to-build-a-neural-network-in-pytorch-8cea49f9a61a)\n",
    "===\n",
    "\n",
    "![](https://miro.medium.com/max/4808/0*-LGdeEFr6ljbfqm5)"
   ]
  },
  {
   "cell_type": "markdown",
   "metadata": {},
   "source": [
    "![](https://miro.medium.com/max/1972/1*QQk0h-t7fT74ekdH6h7ShA.png)\n",
    "\n",
    "So this is a Fully Connected 16x12x10x1 Neural Network witn relu activations in hidden layers, sigmoid activation in output layer.\n",
    "\n",
    "# 1. Manually building weights and biases\n",
    "\n",
    "- This is a low level approach, but it may be suited if you’re trying to reproduce the latest and greatest deep learning architecture on a paper you just just read. Or maybe if you want to develop a customized layer.\n",
    "- The key thing here is that you will need to tell PyTorch what is **_variable_** or **_optimizable_** in your network, so that PyTorch knows how to perform **gradient descent** on your network. "
   ]
  },
  {
   "cell_type": "code",
   "execution_count": 17,
   "metadata": {},
   "outputs": [
    {
     "data": {
      "text/plain": [
       "<torch._C.Generator at 0x7f0ef3bd4e90>"
      ]
     },
     "execution_count": 17,
     "metadata": {},
     "output_type": "execute_result"
    }
   ],
   "source": [
    "import torch\n",
    "import torch.nn.functional as F\n",
    "\n",
    "torch.manual_seed(42)\n",
    "\n",
    "# generating some random features\n",
    "features = torch.randn(1, 16) \n",
    "\n",
    "# define the weights\n",
    "W1 = torch.randn((16, 12), requires_grad=True)\n",
    "W2 = torch.randn((12, 10), requires_grad=True)\n",
    "W3 = torch.randn((10, 1), requires_grad=True)\n",
    "\n",
    "# define the bias terms\n",
    "B1 = torch.randn((12), requires_grad=True)\n",
    "B2 = torch.randn((10), requires_grad=True)\n",
    "B3 = torch.randn((1), requires_grad=True)\n",
    "\n",
    "# calculate hidden and output layers\n",
    "h1 = F.relu((features @ W1) + B1)\n",
    "h2 = F.relu((h1 @ W2) + B2)\n",
    "output = torch.sigmoid((h2 @ W3) + B3)"
   ]
  },
  {
   "cell_type": "markdown",
   "metadata": {},
   "source": [
    "# 2. Extending the torch.nn.Model Class\n"
   ]
  },
  {
   "cell_type": "code",
   "execution_count": null,
   "metadata": {},
   "outputs": [],
   "source": []
  }
 ],
 "metadata": {
  "kernelspec": {
   "display_name": "Python 3",
   "language": "python",
   "name": "python3"
  },
  "language_info": {
   "codemirror_mode": {
    "name": "ipython",
    "version": 3
   },
   "file_extension": ".py",
   "mimetype": "text/x-python",
   "name": "python",
   "nbconvert_exporter": "python",
   "pygments_lexer": "ipython3",
   "version": "3.7.4"
  }
 },
 "nbformat": 4,
 "nbformat_minor": 4
}
